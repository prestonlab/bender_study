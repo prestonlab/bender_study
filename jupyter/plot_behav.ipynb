{
 "cells": [
  {
   "cell_type": "markdown",
   "metadata": {},
   "source": [
    "# Plot behavioral test performance"
   ]
  },
  {
   "cell_type": "code",
   "execution_count": 1,
   "metadata": {
    "pycharm": {
     "name": "#%%\n"
    }
   },
   "outputs": [],
   "source": [
    "import os\n",
    "from pathlib import Path\n",
    "import numpy as np\n",
    "import matplotlib.pyplot as plt\n",
    "import seaborn as sns\n",
    "from mindstorm import statplot\n",
    "from bender_study import task\n",
    "from bender_study import figures\n",
    "\n",
    "bids_dir = Path(os.environ['BENDER_BIDS']) / 'rawdata'\n",
    "fig_dir = Path(os.environ['BENDER_FIGURES']) / 'plots'\n",
    "figures.set_style()"
   ]
  },
  {
   "cell_type": "markdown",
   "metadata": {},
   "source": [
    "## Load data and calculate statistics"
   ]
  },
  {
   "cell_type": "code",
   "execution_count": 2,
   "metadata": {
    "pycharm": {
     "name": "#%%\n"
    }
   },
   "outputs": [],
   "source": [
    "data = task.load_test_events(bids_dir)"
   ]
  },
  {
   "cell_type": "code",
   "execution_count": 3,
   "metadata": {
    "pycharm": {
     "name": "#%%\n"
    }
   },
   "outputs": [
    {
     "data": {
      "text/html": [
       "<div>\n",
       "<style scoped>\n",
       "    .dataframe tbody tr th:only-of-type {\n",
       "        vertical-align: middle;\n",
       "    }\n",
       "\n",
       "    .dataframe tbody tr th {\n",
       "        vertical-align: top;\n",
       "    }\n",
       "\n",
       "    .dataframe thead th {\n",
       "        text-align: right;\n",
       "    }\n",
       "</style>\n",
       "<table border=\"1\" class=\"dataframe\">\n",
       "  <thead>\n",
       "    <tr style=\"text-align: right;\">\n",
       "      <th></th>\n",
       "      <th></th>\n",
       "      <th>pair_type</th>\n",
       "      <th>correct</th>\n",
       "      <th>correct_rt</th>\n",
       "      <th>incorrect_rt</th>\n",
       "    </tr>\n",
       "    <tr>\n",
       "      <th>subject</th>\n",
       "      <th>trial_type</th>\n",
       "      <th></th>\n",
       "      <th></th>\n",
       "      <th></th>\n",
       "      <th></th>\n",
       "    </tr>\n",
       "  </thead>\n",
       "  <tbody>\n",
       "    <tr>\n",
       "      <th rowspan=\"8\" valign=\"top\">02</th>\n",
       "      <th>AB1</th>\n",
       "      <td>AB</td>\n",
       "      <td>0.781513</td>\n",
       "      <td>1.681763</td>\n",
       "      <td>1.838962</td>\n",
       "    </tr>\n",
       "    <tr>\n",
       "      <th>AB2</th>\n",
       "      <td>AB</td>\n",
       "      <td>0.925000</td>\n",
       "      <td>1.213730</td>\n",
       "      <td>1.841000</td>\n",
       "    </tr>\n",
       "    <tr>\n",
       "      <th>AB3</th>\n",
       "      <td>AB</td>\n",
       "      <td>0.983333</td>\n",
       "      <td>1.132059</td>\n",
       "      <td>1.355000</td>\n",
       "    </tr>\n",
       "    <tr>\n",
       "      <th>AB4</th>\n",
       "      <td>AB</td>\n",
       "      <td>1.000000</td>\n",
       "      <td>1.120558</td>\n",
       "      <td>NaN</td>\n",
       "    </tr>\n",
       "    <tr>\n",
       "      <th>AC</th>\n",
       "      <td>AC</td>\n",
       "      <td>0.661017</td>\n",
       "      <td>3.343590</td>\n",
       "      <td>4.065450</td>\n",
       "    </tr>\n",
       "    <tr>\n",
       "      <th>BC</th>\n",
       "      <td>BC</td>\n",
       "      <td>0.891667</td>\n",
       "      <td>2.372103</td>\n",
       "      <td>3.325154</td>\n",
       "    </tr>\n",
       "    <tr>\n",
       "      <th>XY</th>\n",
       "      <td>XY</td>\n",
       "      <td>0.816667</td>\n",
       "      <td>2.753816</td>\n",
       "      <td>3.156636</td>\n",
       "    </tr>\n",
       "    <tr>\n",
       "      <th>AB</th>\n",
       "      <td>AB</td>\n",
       "      <td>0.991667</td>\n",
       "      <td>1.769664</td>\n",
       "      <td>4.084000</td>\n",
       "    </tr>\n",
       "  </tbody>\n",
       "</table>\n",
       "</div>"
      ],
      "text/plain": [
       "                   pair_type   correct  correct_rt  incorrect_rt\n",
       "subject trial_type                                              \n",
       "02      AB1               AB  0.781513    1.681763      1.838962\n",
       "        AB2               AB  0.925000    1.213730      1.841000\n",
       "        AB3               AB  0.983333    1.132059      1.355000\n",
       "        AB4               AB  1.000000    1.120558           NaN\n",
       "        AC                AC  0.661017    3.343590      4.065450\n",
       "        BC                BC  0.891667    2.372103      3.325154\n",
       "        XY                XY  0.816667    2.753816      3.156636\n",
       "        AB                AB  0.991667    1.769664      4.084000"
      ]
     },
     "execution_count": 3,
     "metadata": {},
     "output_type": "execute_result"
    }
   ],
   "source": [
    "trials = ['subject', 'trial_type']\n",
    "grp = data.groupby(trials)\n",
    "m = grp[['pair_type']].first()\n",
    "m['correct'] = grp['correct'].mean()\n",
    "m['correct_rt'] = (\n",
    "    data.query('correct == 1')\n",
    "    .groupby(trials)['response_time']\n",
    "    .mean()\n",
    ")\n",
    "m['incorrect_rt'] = (\n",
    "    data.query('correct == 0')\n",
    "    .groupby(trials)['response_time']\n",
    "    .mean()\n",
    ")\n",
    "m.head(8)"
   ]
  },
  {
   "cell_type": "markdown",
   "metadata": {},
   "source": [
    "## Plot response accuracy"
   ]
  },
  {
   "cell_type": "code",
   "execution_count": 4,
   "metadata": {
    "pycharm": {
     "name": "#%%\n"
    }
   },
   "outputs": [
    {
     "data": {
      "text/html": [
       "<svg  width=\"220\" height=\"55\"><rect x=\"0\" y=\"0\" width=\"55\" height=\"55\" style=\"fill:#0cbe4e;stroke-width:2;stroke:rgb(255,255,255)\"/><rect x=\"55\" y=\"0\" width=\"55\" height=\"55\" style=\"fill:#008bff;stroke-width:2;stroke:rgb(255,255,255)\"/><rect x=\"110\" y=\"0\" width=\"55\" height=\"55\" style=\"fill:#ffa62a;stroke-width:2;stroke:rgb(255,255,255)\"/><rect x=\"165\" y=\"0\" width=\"55\" height=\"55\" style=\"fill:#ff4790;stroke-width:2;stroke:rgb(255,255,255)\"/></svg>"
      ],
      "text/plain": [
       "[(0.0471, 0.7451, 0.3059),\n",
       " (0.0, 0.5451, 1.0),\n",
       " (1.0, 0.651, 0.1647),\n",
       " (1.0, 0.2784, 0.5647)]"
      ]
     },
     "execution_count": 4,
     "metadata": {},
     "output_type": "execute_result"
    }
   ],
   "source": [
    "dark = sns.color_palette(\n",
    "    [\n",
    "        (0.0471, 0.7451, 0.3059),\n",
    "        (0.0000, 0.5451, 1.0000),\n",
    "        (1.0000, 0.6510, 0.1647),\n",
    "        (1.0000, 0.2784, 0.5647),\n",
    "    ]\n",
    ")\n",
    "\n",
    "dark"
   ]
  },
  {
   "cell_type": "code",
   "execution_count": 5,
   "metadata": {
    "pycharm": {
     "name": "#%%\n"
    }
   },
   "outputs": [
    {
     "data": {
      "text/html": [
       "<svg  width=\"220\" height=\"55\"><rect x=\"0\" y=\"0\" width=\"55\" height=\"55\" style=\"fill:#74d89b;stroke-width:2;stroke:rgb(255,255,255)\"/><rect x=\"55\" y=\"0\" width=\"55\" height=\"55\" style=\"fill:#7cc7ff;stroke-width:2;stroke:rgb(255,255,255)\"/><rect x=\"110\" y=\"0\" width=\"55\" height=\"55\" style=\"fill:#ffd19a;stroke-width:2;stroke:rgb(255,255,255)\"/><rect x=\"165\" y=\"0\" width=\"55\" height=\"55\" style=\"fill:#ff98d3;stroke-width:2;stroke:rgb(255,255,255)\"/></svg>"
      ],
      "text/plain": [
       "[(0.4549, 0.8471, 0.6078),\n",
       " (0.4863, 0.7804, 1.0),\n",
       " (1.0, 0.8196, 0.6039),\n",
       " (1.0, 0.5961, 0.8275)]"
      ]
     },
     "execution_count": 5,
     "metadata": {},
     "output_type": "execute_result"
    }
   ],
   "source": [
    "light = sns.color_palette(\n",
    "    [\n",
    "        (0.4549, 0.8471, 0.6078),\n",
    "        (0.4863, 0.7804, 1.0000),\n",
    "        (1.0000, 0.8196, 0.6039),\n",
    "        (1.0000, 0.5961, 0.8275),\n",
    "    ]\n",
    ")\n",
    "light"
   ]
  },
  {
   "cell_type": "code",
   "execution_count": 6,
   "metadata": {
    "pycharm": {
     "name": "#%%\n"
    }
   },
   "outputs": [
    {
     "name": "stderr",
     "output_type": "stream",
     "text": [
      "LINO NOT subset; don't know how to subset; dropped\n"
     ]
    },
    {
     "data": {
      "image/png": "[encoded data removed]",
      "text/plain": [
       "<Figure size 288x216 with 1 Axes>"
      ]
     },
     "metadata": {
      "needs_background": "light"
     },
     "output_type": "display_data"
    }
   ],
   "source": [
    "with plt.style.context({'font.size': 10}):\n",
    "    fig, ax = plt.subplots(figsize=(4, 3))\n",
    "    ax = statplot.plot_swarm_bar(\n",
    "        data=m,\n",
    "        x='trial_type',\n",
    "        y='correct',\n",
    "        hue='pair_type',\n",
    "        light=light,\n",
    "        dark=dark,\n",
    "        point_kind='strip',\n",
    "        width=.6,\n",
    "        legend=False,\n",
    "        ax=ax,\n",
    "    )\n",
    "    ax.axline((0, 1/3), slope=0, color='k', linestyle='--', linewidth=.5)\n",
    "    ax.axline((3.5, 0), slope=np.Inf, color='k', linestyle='-', linewidth=.5)\n",
    "    ax.set(ylim=(0, 1.0), ylabel='Accuracy')\n",
    "    ax.tick_params(axis='x', length=0)\n",
    "    \n",
    "    fontdict = {'horizontalalignment': 'center'}\n",
    "    ax.text(1.5, 1.05, 'Day 1', fontdict=fontdict)\n",
    "    ax.text(5.5, 1.05, 'Day 2', fontdict=fontdict);\n",
    "    \n",
    "    ax.figure.savefig(fig_dir / 'accuracy.pdf')"
   ]
  },
  {
   "cell_type": "markdown",
   "metadata": {},
   "source": [
    "## Plot response times for correct responses"
   ]
  },
  {
   "cell_type": "code",
   "execution_count": 7,
   "metadata": {
    "pycharm": {
     "name": "#%%\n"
    }
   },
   "outputs": [
    {
     "name": "stderr",
     "output_type": "stream",
     "text": [
      "LINO NOT subset; don't know how to subset; dropped\n"
     ]
    },
    {
     "data": {
      "image/png": "[encoded data removed]",
      "text/plain": [
       "<Figure size 288x216 with 1 Axes>"
      ]
     },
     "metadata": {
      "needs_background": "light"
     },
     "output_type": "display_data"
    }
   ],
   "source": [
    "with plt.style.context({'font.size': 10}):\n",
    "    fig, ax = plt.subplots(figsize=(4, 3))\n",
    "    ax = statplot.plot_swarm_bar(\n",
    "        data=m,\n",
    "        x='trial_type',\n",
    "        y='correct_rt',\n",
    "        hue='pair_type',\n",
    "        light=light,\n",
    "        dark=dark,\n",
    "        point_kind='strip',\n",
    "        width=.6,\n",
    "        legend=False,\n",
    "        ax=ax,\n",
    "    )\n",
    "    ax.axline((3.5, 0), slope=np.Inf, color='k', linestyle='-', linewidth=.5)\n",
    "    ax.set(ylim=(0, 4), ylabel='Response time (s)')\n",
    "    ax.tick_params(axis='x', length=0)\n",
    "    \n",
    "    fontdict = {'horizontalalignment': 'center'}\n",
    "    ax.text(1.5, 4.2, 'Day 1', fontdict=fontdict)\n",
    "    ax.text(5.5, 4.2, 'Day 2', fontdict=fontdict);\n",
    "    \n",
    "    ax.figure.savefig(fig_dir / 'rt.pdf')"
   ]
  },
  {
   "cell_type": "code",
   "execution_count": 8,
   "metadata": {
    "pycharm": {
     "name": "#%%\n"
    }
   },
   "outputs": [
    {
     "name": "stdout",
     "output_type": "stream",
     "text": [
      "Python implementation: CPython\n",
      "Python version       : 3.9.7\n",
      "IPython version      : 8.3.0\n",
      "\n",
      "bender_study: 0.1.0\n",
      "matplotlib  : 3.5.1\n",
      "mindstorm   : 0.8.1\n",
      "numpy       : 1.22.3\n",
      "seaborn     : 0.11.2\n",
      "\n"
     ]
    }
   ],
   "source": [
    "%load_ext watermark\n",
    "%watermark -v -iv"
   ]
  }
 ],
 "metadata": {
  "kernelspec": {
   "display_name": "bender_study",
   "language": "python",
   "name": "bender_study"
  },
  "language_info": {
   "codemirror_mode": {
    "name": "ipython",
    "version": 3
   },
   "file_extension": ".py",
   "mimetype": "text/x-python",
   "name": "python",
   "nbconvert_exporter": "python",
   "pygments_lexer": "ipython3",
   "version": "3.9.7"
  },
  "toc-autonumbering": false,
  "toc-showcode": false,
  "toc-showmarkdowntxt": false
 },
 "nbformat": 4,
 "nbformat_minor": 4
}
