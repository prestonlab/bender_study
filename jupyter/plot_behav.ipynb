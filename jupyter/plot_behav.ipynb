{
 "cells": [
  {
   "cell_type": "markdown",
   "metadata": {},
   "source": [
    "# Plot behavioral test performance"
   ]
  },
  {
   "cell_type": "code",
   "execution_count": 1,
   "metadata": {
    "pycharm": {
     "name": "#%%\n"
    }
   },
   "outputs": [],
   "source": [
    "import os\n",
    "from pathlib import Path\n",
    "import numpy as np\n",
    "import matplotlib.pyplot as plt\n",
    "import seaborn as sns\n",
    "from scipy import stats\n",
    "import pingouin as pg\n",
    "from mindstorm import statplot\n",
    "from bender_study import task\n",
    "from bender_study import figures\n",
    "\n",
    "bids_dir = Path(os.environ['BENDER_BIDS']) / 'rawdata'\n",
    "fig_dir = Path(os.environ['BENDER_FIGURES']) / 'plots'\n",
    "figures.set_style()"
   ]
  },
  {
   "cell_type": "markdown",
   "metadata": {},
   "source": [
    "## Load data and calculate statistics"
   ]
  },
  {
   "cell_type": "code",
   "execution_count": 2,
   "metadata": {
    "pycharm": {
     "name": "#%%\n"
    }
   },
   "outputs": [],
   "source": [
    "data = task.load_test_events(bids_dir)\n",
    "\n",
    "# score no-response trials as incorrect\n",
    "data['correct'] = data['correct'].fillna(False)"
   ]
  },
  {
   "cell_type": "code",
   "execution_count": 3,
   "metadata": {
    "pycharm": {
     "name": "#%%\n"
    }
   },
   "outputs": [
    {
     "data": {
      "text/html": [
       "<div>\n",
       "<style scoped>\n",
       "    .dataframe tbody tr th:only-of-type {\n",
       "        vertical-align: middle;\n",
       "    }\n",
       "\n",
       "    .dataframe tbody tr th {\n",
       "        vertical-align: top;\n",
       "    }\n",
       "\n",
       "    .dataframe thead th {\n",
       "        text-align: right;\n",
       "    }\n",
       "</style>\n",
       "<table border=\"1\" class=\"dataframe\">\n",
       "  <thead>\n",
       "    <tr style=\"text-align: right;\">\n",
       "      <th></th>\n",
       "      <th></th>\n",
       "      <th>pair_type</th>\n",
       "      <th>score</th>\n",
       "      <th>correct</th>\n",
       "      <th>correct_rt</th>\n",
       "      <th>incorrect_rt</th>\n",
       "    </tr>\n",
       "    <tr>\n",
       "      <th>subject</th>\n",
       "      <th>trial_type</th>\n",
       "      <th></th>\n",
       "      <th></th>\n",
       "      <th></th>\n",
       "      <th></th>\n",
       "      <th></th>\n",
       "    </tr>\n",
       "  </thead>\n",
       "  <tbody>\n",
       "    <tr>\n",
       "      <th rowspan=\"8\" valign=\"top\">02</th>\n",
       "      <th>AB1</th>\n",
       "      <td>AB</td>\n",
       "      <td>93</td>\n",
       "      <td>0.775000</td>\n",
       "      <td>1.681763</td>\n",
       "      <td>1.838962</td>\n",
       "    </tr>\n",
       "    <tr>\n",
       "      <th>AB2</th>\n",
       "      <td>AB</td>\n",
       "      <td>111</td>\n",
       "      <td>0.925000</td>\n",
       "      <td>1.213730</td>\n",
       "      <td>1.841000</td>\n",
       "    </tr>\n",
       "    <tr>\n",
       "      <th>AB3</th>\n",
       "      <td>AB</td>\n",
       "      <td>118</td>\n",
       "      <td>0.983333</td>\n",
       "      <td>1.132059</td>\n",
       "      <td>1.355000</td>\n",
       "    </tr>\n",
       "    <tr>\n",
       "      <th>AB4</th>\n",
       "      <td>AB</td>\n",
       "      <td>120</td>\n",
       "      <td>1.000000</td>\n",
       "      <td>1.120558</td>\n",
       "      <td>NaN</td>\n",
       "    </tr>\n",
       "    <tr>\n",
       "      <th>AC</th>\n",
       "      <td>AC</td>\n",
       "      <td>78</td>\n",
       "      <td>0.650000</td>\n",
       "      <td>3.343590</td>\n",
       "      <td>4.065450</td>\n",
       "    </tr>\n",
       "    <tr>\n",
       "      <th>BC</th>\n",
       "      <td>BC</td>\n",
       "      <td>107</td>\n",
       "      <td>0.891667</td>\n",
       "      <td>2.372103</td>\n",
       "      <td>3.325154</td>\n",
       "    </tr>\n",
       "    <tr>\n",
       "      <th>XY</th>\n",
       "      <td>XY</td>\n",
       "      <td>49</td>\n",
       "      <td>0.816667</td>\n",
       "      <td>2.753816</td>\n",
       "      <td>3.156636</td>\n",
       "    </tr>\n",
       "    <tr>\n",
       "      <th>AB</th>\n",
       "      <td>AB</td>\n",
       "      <td>119</td>\n",
       "      <td>0.991667</td>\n",
       "      <td>1.769664</td>\n",
       "      <td>4.084000</td>\n",
       "    </tr>\n",
       "  </tbody>\n",
       "</table>\n",
       "</div>"
      ],
      "text/plain": [
       "                   pair_type  score   correct  correct_rt  incorrect_rt\n",
       "subject trial_type                                                     \n",
       "02      AB1               AB     93  0.775000    1.681763      1.838962\n",
       "        AB2               AB    111  0.925000    1.213730      1.841000\n",
       "        AB3               AB    118  0.983333    1.132059      1.355000\n",
       "        AB4               AB    120  1.000000    1.120558           NaN\n",
       "        AC                AC     78  0.650000    3.343590      4.065450\n",
       "        BC                BC    107  0.891667    2.372103      3.325154\n",
       "        XY                XY     49  0.816667    2.753816      3.156636\n",
       "        AB                AB    119  0.991667    1.769664      4.084000"
      ]
     },
     "execution_count": 3,
     "metadata": {},
     "output_type": "execute_result"
    }
   ],
   "source": [
    "# calculate statistics for each subject and trial type\n",
    "trials = ['subject', 'trial_type']\n",
    "grp = data.groupby(trials)\n",
    "m = grp[['pair_type']].first()\n",
    "m['score'] = grp['correct'].sum()\n",
    "m['correct'] = grp['correct'].mean()\n",
    "m['correct_rt'] = (\n",
    "    data.query('correct == 1')\n",
    "    .groupby(trials)['response_time']\n",
    "    .mean()\n",
    ")\n",
    "m['incorrect_rt'] = (\n",
    "    data.query('correct == 0')\n",
    "    .groupby(trials)['response_time']\n",
    "    .mean()\n",
    ")\n",
    "m.head(8)"
   ]
  },
  {
   "cell_type": "markdown",
   "metadata": {
    "tags": []
   },
   "source": [
    "## Response accuracy"
   ]
  },
  {
   "cell_type": "code",
   "execution_count": 4,
   "metadata": {},
   "outputs": [
    {
     "data": {
      "text/html": [
       "<div>\n",
       "<style scoped>\n",
       "    .dataframe tbody tr th:only-of-type {\n",
       "        vertical-align: middle;\n",
       "    }\n",
       "\n",
       "    .dataframe tbody tr th {\n",
       "        vertical-align: top;\n",
       "    }\n",
       "\n",
       "    .dataframe thead th {\n",
       "        text-align: right;\n",
       "    }\n",
       "</style>\n",
       "<table border=\"1\" class=\"dataframe\">\n",
       "  <thead>\n",
       "    <tr style=\"text-align: right;\">\n",
       "      <th>trial_type</th>\n",
       "      <th>AB1</th>\n",
       "      <th>AB2</th>\n",
       "      <th>AB3</th>\n",
       "      <th>AB4</th>\n",
       "      <th>AC</th>\n",
       "      <th>BC</th>\n",
       "      <th>XY</th>\n",
       "      <th>AB</th>\n",
       "    </tr>\n",
       "  </thead>\n",
       "  <tbody>\n",
       "    <tr>\n",
       "      <th>mean</th>\n",
       "      <td>88.833333</td>\n",
       "      <td>97.777778</td>\n",
       "      <td>98.722222</td>\n",
       "      <td>98.916667</td>\n",
       "      <td>78.166667</td>\n",
       "      <td>92.722222</td>\n",
       "      <td>86.388889</td>\n",
       "      <td>99.472222</td>\n",
       "    </tr>\n",
       "    <tr>\n",
       "      <th>sem</th>\n",
       "      <td>1.205696</td>\n",
       "      <td>0.375523</td>\n",
       "      <td>0.318976</td>\n",
       "      <td>0.226550</td>\n",
       "      <td>2.735813</td>\n",
       "      <td>1.702645</td>\n",
       "      <td>2.108311</td>\n",
       "      <td>0.176362</td>\n",
       "    </tr>\n",
       "  </tbody>\n",
       "</table>\n",
       "</div>"
      ],
      "text/plain": [
       "trial_type        AB1        AB2        AB3        AB4         AC         BC  \\\n",
       "mean        88.833333  97.777778  98.722222  98.916667  78.166667  92.722222   \n",
       "sem          1.205696   0.375523   0.318976   0.226550   2.735813   1.702645   \n",
       "\n",
       "trial_type         XY         AB  \n",
       "mean        86.388889  99.472222  \n",
       "sem          2.108311   0.176362  "
      ]
     },
     "execution_count": 4,
     "metadata": {},
     "output_type": "execute_result"
    }
   ],
   "source": [
    "# percent correct summary stats\n",
    "mp = m['correct'].unstack('trial_type')\n",
    "(mp * 100).agg(['mean', 'sem'])"
   ]
  },
  {
   "cell_type": "code",
   "execution_count": 5,
   "metadata": {},
   "outputs": [
    {
     "data": {
      "text/plain": [
       "0.008682276632800794"
      ]
     },
     "execution_count": 5,
     "metadata": {},
     "output_type": "execute_result"
    }
   ],
   "source": [
    "# AC accuracy binomial test\n",
    "sp = m['score'].unstack('trial_type')\n",
    "n = data.query('subject == \"02\"').groupby(['trial_type'])['pair_type'].count()\n",
    "p = [stats.binom_test(x, n['AC'], p=1/3, alternative='greater') for x in sp['AC']]\n",
    "np.max(p)"
   ]
  },
  {
   "cell_type": "code",
   "execution_count": 6,
   "metadata": {},
   "outputs": [
    {
     "data": {
      "text/html": [
       "<div>\n",
       "<style scoped>\n",
       "    .dataframe tbody tr th:only-of-type {\n",
       "        vertical-align: middle;\n",
       "    }\n",
       "\n",
       "    .dataframe tbody tr th {\n",
       "        vertical-align: top;\n",
       "    }\n",
       "\n",
       "    .dataframe thead th {\n",
       "        text-align: right;\n",
       "    }\n",
       "</style>\n",
       "<table border=\"1\" class=\"dataframe\">\n",
       "  <thead>\n",
       "    <tr style=\"text-align: right;\">\n",
       "      <th></th>\n",
       "      <th>T</th>\n",
       "      <th>dof</th>\n",
       "      <th>alternative</th>\n",
       "      <th>p-val</th>\n",
       "      <th>CI95%</th>\n",
       "      <th>cohen-d</th>\n",
       "      <th>BF10</th>\n",
       "      <th>power</th>\n",
       "    </tr>\n",
       "  </thead>\n",
       "  <tbody>\n",
       "    <tr>\n",
       "      <th>T-test</th>\n",
       "      <td>7.658487</td>\n",
       "      <td>29</td>\n",
       "      <td>two-sided</td>\n",
       "      <td>1.915333e-08</td>\n",
       "      <td>[0.15, 0.26]</td>\n",
       "      <td>1.95165</td>\n",
       "      <td>7.052e+05</td>\n",
       "      <td>1.0</td>\n",
       "    </tr>\n",
       "  </tbody>\n",
       "</table>\n",
       "</div>"
      ],
      "text/plain": [
       "               T  dof alternative         p-val         CI95%  cohen-d  \\\n",
       "T-test  7.658487   29   two-sided  1.915333e-08  [0.15, 0.26]  1.95165   \n",
       "\n",
       "             BF10  power  \n",
       "T-test  7.052e+05    1.0  "
      ]
     },
     "execution_count": 6,
     "metadata": {},
     "output_type": "execute_result"
    }
   ],
   "source": [
    "# AC vs. AB\n",
    "pg.ttest(mp['AB4'], mp['AC'], paired=True)"
   ]
  },
  {
   "cell_type": "code",
   "execution_count": 7,
   "metadata": {},
   "outputs": [
    {
     "data": {
      "text/html": [
       "<div>\n",
       "<style scoped>\n",
       "    .dataframe tbody tr th:only-of-type {\n",
       "        vertical-align: middle;\n",
       "    }\n",
       "\n",
       "    .dataframe tbody tr th {\n",
       "        vertical-align: top;\n",
       "    }\n",
       "\n",
       "    .dataframe thead th {\n",
       "        text-align: right;\n",
       "    }\n",
       "</style>\n",
       "<table border=\"1\" class=\"dataframe\">\n",
       "  <thead>\n",
       "    <tr style=\"text-align: right;\">\n",
       "      <th></th>\n",
       "      <th>T</th>\n",
       "      <th>dof</th>\n",
       "      <th>alternative</th>\n",
       "      <th>p-val</th>\n",
       "      <th>CI95%</th>\n",
       "      <th>cohen-d</th>\n",
       "      <th>BF10</th>\n",
       "      <th>power</th>\n",
       "    </tr>\n",
       "  </thead>\n",
       "  <tbody>\n",
       "    <tr>\n",
       "      <th>T-test</th>\n",
       "      <td>9.557883</td>\n",
       "      <td>29</td>\n",
       "      <td>two-sided</td>\n",
       "      <td>1.822459e-10</td>\n",
       "      <td>[0.11, 0.18]</td>\n",
       "      <td>1.166293</td>\n",
       "      <td>5.671e+07</td>\n",
       "      <td>0.999987</td>\n",
       "    </tr>\n",
       "  </tbody>\n",
       "</table>\n",
       "</div>"
      ],
      "text/plain": [
       "               T  dof alternative         p-val         CI95%   cohen-d  \\\n",
       "T-test  9.557883   29   two-sided  1.822459e-10  [0.11, 0.18]  1.166293   \n",
       "\n",
       "             BF10     power  \n",
       "T-test  5.671e+07  0.999987  "
      ]
     },
     "execution_count": 7,
     "metadata": {},
     "output_type": "execute_result"
    }
   ],
   "source": [
    "# AC vs. BC\n",
    "pg.ttest(mp['BC'], mp['AC'], paired=True)"
   ]
  },
  {
   "cell_type": "code",
   "execution_count": 8,
   "metadata": {},
   "outputs": [
    {
     "data": {
      "text/html": [
       "<div>\n",
       "<style scoped>\n",
       "    .dataframe tbody tr th:only-of-type {\n",
       "        vertical-align: middle;\n",
       "    }\n",
       "\n",
       "    .dataframe tbody tr th {\n",
       "        vertical-align: top;\n",
       "    }\n",
       "\n",
       "    .dataframe thead th {\n",
       "        text-align: right;\n",
       "    }\n",
       "</style>\n",
       "<table border=\"1\" class=\"dataframe\">\n",
       "  <thead>\n",
       "    <tr style=\"text-align: right;\">\n",
       "      <th></th>\n",
       "      <th>T</th>\n",
       "      <th>dof</th>\n",
       "      <th>alternative</th>\n",
       "      <th>p-val</th>\n",
       "      <th>CI95%</th>\n",
       "      <th>cohen-d</th>\n",
       "      <th>BF10</th>\n",
       "      <th>power</th>\n",
       "    </tr>\n",
       "  </thead>\n",
       "  <tbody>\n",
       "    <tr>\n",
       "      <th>T-test</th>\n",
       "      <td>7.299689</td>\n",
       "      <td>29</td>\n",
       "      <td>two-sided</td>\n",
       "      <td>4.859654e-08</td>\n",
       "      <td>[0.06, 0.11]</td>\n",
       "      <td>0.614653</td>\n",
       "      <td>2.948e+05</td>\n",
       "      <td>0.902032</td>\n",
       "    </tr>\n",
       "  </tbody>\n",
       "</table>\n",
       "</div>"
      ],
      "text/plain": [
       "               T  dof alternative         p-val         CI95%   cohen-d  \\\n",
       "T-test  7.299689   29   two-sided  4.859654e-08  [0.06, 0.11]  0.614653   \n",
       "\n",
       "             BF10     power  \n",
       "T-test  2.948e+05  0.902032  "
      ]
     },
     "execution_count": 8,
     "metadata": {},
     "output_type": "execute_result"
    }
   ],
   "source": [
    "# AC vs. XY\n",
    "pg.ttest(mp['XY'], mp['AC'], paired=True)"
   ]
  },
  {
   "cell_type": "code",
   "execution_count": 9,
   "metadata": {},
   "outputs": [
    {
     "data": {
      "text/html": [
       "<div>\n",
       "<style scoped>\n",
       "    .dataframe tbody tr th:only-of-type {\n",
       "        vertical-align: middle;\n",
       "    }\n",
       "\n",
       "    .dataframe tbody tr th {\n",
       "        vertical-align: top;\n",
       "    }\n",
       "\n",
       "    .dataframe thead th {\n",
       "        text-align: right;\n",
       "    }\n",
       "</style>\n",
       "<table border=\"1\" class=\"dataframe\">\n",
       "  <thead>\n",
       "    <tr style=\"text-align: right;\">\n",
       "      <th></th>\n",
       "      <th>T</th>\n",
       "      <th>dof</th>\n",
       "      <th>alternative</th>\n",
       "      <th>p-val</th>\n",
       "      <th>CI95%</th>\n",
       "      <th>cohen-d</th>\n",
       "      <th>BF10</th>\n",
       "      <th>power</th>\n",
       "    </tr>\n",
       "  </thead>\n",
       "  <tbody>\n",
       "    <tr>\n",
       "      <th>T-test</th>\n",
       "      <td>5.049029</td>\n",
       "      <td>29</td>\n",
       "      <td>two-sided</td>\n",
       "      <td>0.000022</td>\n",
       "      <td>[0.04, 0.09]</td>\n",
       "      <td>0.603422</td>\n",
       "      <td>1020.933</td>\n",
       "      <td>0.891371</td>\n",
       "    </tr>\n",
       "  </tbody>\n",
       "</table>\n",
       "</div>"
      ],
      "text/plain": [
       "               T  dof alternative     p-val         CI95%   cohen-d      BF10  \\\n",
       "T-test  5.049029   29   two-sided  0.000022  [0.04, 0.09]  0.603422  1020.933   \n",
       "\n",
       "           power  \n",
       "T-test  0.891371  "
      ]
     },
     "execution_count": 9,
     "metadata": {},
     "output_type": "execute_result"
    }
   ],
   "source": [
    "# BC vs XY\n",
    "pg.ttest(mp['BC'], mp['XY'], paired=True)"
   ]
  },
  {
   "cell_type": "markdown",
   "metadata": {},
   "source": [
    "## Response times on correct trials"
   ]
  },
  {
   "cell_type": "code",
   "execution_count": 10,
   "metadata": {},
   "outputs": [
    {
     "data": {
      "text/html": [
       "<div>\n",
       "<style scoped>\n",
       "    .dataframe tbody tr th:only-of-type {\n",
       "        vertical-align: middle;\n",
       "    }\n",
       "\n",
       "    .dataframe tbody tr th {\n",
       "        vertical-align: top;\n",
       "    }\n",
       "\n",
       "    .dataframe thead th {\n",
       "        text-align: right;\n",
       "    }\n",
       "</style>\n",
       "<table border=\"1\" class=\"dataframe\">\n",
       "  <thead>\n",
       "    <tr style=\"text-align: right;\">\n",
       "      <th>trial_type</th>\n",
       "      <th>AB1</th>\n",
       "      <th>AB2</th>\n",
       "      <th>AB3</th>\n",
       "      <th>AB4</th>\n",
       "      <th>AC</th>\n",
       "      <th>BC</th>\n",
       "      <th>XY</th>\n",
       "      <th>AB</th>\n",
       "    </tr>\n",
       "  </thead>\n",
       "  <tbody>\n",
       "    <tr>\n",
       "      <th>mean</th>\n",
       "      <td>1549.228424</td>\n",
       "      <td>1166.622098</td>\n",
       "      <td>1078.197729</td>\n",
       "      <td>1043.335684</td>\n",
       "      <td>2947.477063</td>\n",
       "      <td>1858.617622</td>\n",
       "      <td>2249.270559</td>\n",
       "      <td>1525.941832</td>\n",
       "    </tr>\n",
       "    <tr>\n",
       "      <th>sem</th>\n",
       "      <td>43.403530</td>\n",
       "      <td>30.767091</td>\n",
       "      <td>28.436656</td>\n",
       "      <td>25.679912</td>\n",
       "      <td>90.492365</td>\n",
       "      <td>66.660615</td>\n",
       "      <td>73.186048</td>\n",
       "      <td>38.850874</td>\n",
       "    </tr>\n",
       "  </tbody>\n",
       "</table>\n",
       "</div>"
      ],
      "text/plain": [
       "trial_type          AB1          AB2          AB3          AB4           AC  \\\n",
       "mean        1549.228424  1166.622098  1078.197729  1043.335684  2947.477063   \n",
       "sem           43.403530    30.767091    28.436656    25.679912    90.492365   \n",
       "\n",
       "trial_type           BC           XY           AB  \n",
       "mean        1858.617622  2249.270559  1525.941832  \n",
       "sem           66.660615    73.186048    38.850874  "
      ]
     },
     "execution_count": 10,
     "metadata": {},
     "output_type": "execute_result"
    }
   ],
   "source": [
    "rp = m['correct_rt'].unstack('trial_type')\n",
    "(rp * 1000).agg(['mean', 'sem'])"
   ]
  },
  {
   "cell_type": "code",
   "execution_count": 11,
   "metadata": {},
   "outputs": [
    {
     "data": {
      "text/html": [
       "<div>\n",
       "<style scoped>\n",
       "    .dataframe tbody tr th:only-of-type {\n",
       "        vertical-align: middle;\n",
       "    }\n",
       "\n",
       "    .dataframe tbody tr th {\n",
       "        vertical-align: top;\n",
       "    }\n",
       "\n",
       "    .dataframe thead th {\n",
       "        text-align: right;\n",
       "    }\n",
       "</style>\n",
       "<table border=\"1\" class=\"dataframe\">\n",
       "  <thead>\n",
       "    <tr style=\"text-align: right;\">\n",
       "      <th></th>\n",
       "      <th>T</th>\n",
       "      <th>dof</th>\n",
       "      <th>alternative</th>\n",
       "      <th>p-val</th>\n",
       "      <th>CI95%</th>\n",
       "      <th>cohen-d</th>\n",
       "      <th>BF10</th>\n",
       "      <th>power</th>\n",
       "    </tr>\n",
       "  </thead>\n",
       "  <tbody>\n",
       "    <tr>\n",
       "      <th>T-test</th>\n",
       "      <td>10.176979</td>\n",
       "      <td>29</td>\n",
       "      <td>two-sided</td>\n",
       "      <td>4.426203e-11</td>\n",
       "      <td>[0.31, 0.47]</td>\n",
       "      <td>1.018911</td>\n",
       "      <td>2.168e+08</td>\n",
       "      <td>0.999696</td>\n",
       "    </tr>\n",
       "  </tbody>\n",
       "</table>\n",
       "</div>"
      ],
      "text/plain": [
       "                T  dof alternative         p-val         CI95%   cohen-d  \\\n",
       "T-test  10.176979   29   two-sided  4.426203e-11  [0.31, 0.47]  1.018911   \n",
       "\n",
       "             BF10     power  \n",
       "T-test  2.168e+08  0.999696  "
      ]
     },
     "execution_count": 11,
     "metadata": {},
     "output_type": "execute_result"
    }
   ],
   "source": [
    "# BC vs. XY\n",
    "pg.ttest(rp['XY'], rp['BC'], paired=True)"
   ]
  },
  {
   "cell_type": "markdown",
   "metadata": {},
   "source": [
    "## Plot response accuracy"
   ]
  },
  {
   "cell_type": "code",
   "execution_count": 12,
   "metadata": {
    "pycharm": {
     "name": "#%%\n"
    }
   },
   "outputs": [
    {
     "data": {
      "text/html": [
       "<svg  width=\"220\" height=\"55\"><rect x=\"0\" y=\"0\" width=\"55\" height=\"55\" style=\"fill:#0cbe4e;stroke-width:2;stroke:rgb(255,255,255)\"/><rect x=\"55\" y=\"0\" width=\"55\" height=\"55\" style=\"fill:#008bff;stroke-width:2;stroke:rgb(255,255,255)\"/><rect x=\"110\" y=\"0\" width=\"55\" height=\"55\" style=\"fill:#ffa62a;stroke-width:2;stroke:rgb(255,255,255)\"/><rect x=\"165\" y=\"0\" width=\"55\" height=\"55\" style=\"fill:#ff4790;stroke-width:2;stroke:rgb(255,255,255)\"/></svg>"
      ],
      "text/plain": [
       "[(0.0471, 0.7451, 0.3059),\n",
       " (0.0, 0.5451, 1.0),\n",
       " (1.0, 0.651, 0.1647),\n",
       " (1.0, 0.2784, 0.5647)]"
      ]
     },
     "execution_count": 12,
     "metadata": {},
     "output_type": "execute_result"
    }
   ],
   "source": [
    "dark = sns.color_palette(\n",
    "    [\n",
    "        (0.0471, 0.7451, 0.3059),\n",
    "        (0.0000, 0.5451, 1.0000),\n",
    "        (1.0000, 0.6510, 0.1647),\n",
    "        (1.0000, 0.2784, 0.5647),\n",
    "    ]\n",
    ")\n",
    "\n",
    "dark"
   ]
  },
  {
   "cell_type": "code",
   "execution_count": 13,
   "metadata": {
    "pycharm": {
     "name": "#%%\n"
    }
   },
   "outputs": [
    {
     "data": {
      "text/html": [
       "<svg  width=\"220\" height=\"55\"><rect x=\"0\" y=\"0\" width=\"55\" height=\"55\" style=\"fill:#74d89b;stroke-width:2;stroke:rgb(255,255,255)\"/><rect x=\"55\" y=\"0\" width=\"55\" height=\"55\" style=\"fill:#7cc7ff;stroke-width:2;stroke:rgb(255,255,255)\"/><rect x=\"110\" y=\"0\" width=\"55\" height=\"55\" style=\"fill:#ffd19a;stroke-width:2;stroke:rgb(255,255,255)\"/><rect x=\"165\" y=\"0\" width=\"55\" height=\"55\" style=\"fill:#ff98d3;stroke-width:2;stroke:rgb(255,255,255)\"/></svg>"
      ],
      "text/plain": [
       "[(0.4549, 0.8471, 0.6078),\n",
       " (0.4863, 0.7804, 1.0),\n",
       " (1.0, 0.8196, 0.6039),\n",
       " (1.0, 0.5961, 0.8275)]"
      ]
     },
     "execution_count": 13,
     "metadata": {},
     "output_type": "execute_result"
    }
   ],
   "source": [
    "light = sns.color_palette(\n",
    "    [\n",
    "        (0.4549, 0.8471, 0.6078),\n",
    "        (0.4863, 0.7804, 1.0000),\n",
    "        (1.0000, 0.8196, 0.6039),\n",
    "        (1.0000, 0.5961, 0.8275),\n",
    "    ]\n",
    ")\n",
    "light"
   ]
  },
  {
   "cell_type": "code",
   "execution_count": 14,
   "metadata": {
    "pycharm": {
     "name": "#%%\n"
    }
   },
   "outputs": [
    {
     "name": "stderr",
     "output_type": "stream",
     "text": [
      "LINO NOT subset; don't know how to subset; dropped\n"
     ]
    },
    {
     "data": {
      "image/png": "[encoded data removed]",
      "text/plain": [
       "<Figure size 288x216 with 1 Axes>"
      ]
     },
     "metadata": {
      "needs_background": "light"
     },
     "output_type": "display_data"
    }
   ],
   "source": [
    "with plt.style.context({'font.size': 10}):\n",
    "    fig, ax = plt.subplots(figsize=(4, 3))\n",
    "    ax = statplot.plot_swarm_bar(\n",
    "        data=m,\n",
    "        x='trial_type',\n",
    "        y='correct',\n",
    "        hue='pair_type',\n",
    "        light=light,\n",
    "        dark=dark,\n",
    "        point_kind='strip',\n",
    "        width=.6,\n",
    "        legend=False,\n",
    "        ax=ax,\n",
    "    )\n",
    "    ax.axline((0, 1/3), slope=0, color='k', linestyle='--', linewidth=.5)\n",
    "    ax.axline((3.5, 0), slope=np.Inf, color='k', linestyle='-', linewidth=.5)\n",
    "    ax.set(ylim=(0, 1.0), ylabel='Accuracy')\n",
    "    ax.tick_params(axis='x', length=0)\n",
    "    \n",
    "    fontdict = {'horizontalalignment': 'center'}\n",
    "    ax.text(1.5, 1.05, 'Day 1', fontdict=fontdict)\n",
    "    ax.text(5.5, 1.05, 'Day 2', fontdict=fontdict);\n",
    "    \n",
    "    ax.figure.savefig(fig_dir / 'accuracy.pdf')"
   ]
  },
  {
   "cell_type": "markdown",
   "metadata": {},
   "source": [
    "## Plot response times for correct responses"
   ]
  },
  {
   "cell_type": "code",
   "execution_count": 15,
   "metadata": {
    "pycharm": {
     "name": "#%%\n"
    }
   },
   "outputs": [
    {
     "name": "stderr",
     "output_type": "stream",
     "text": [
      "LINO NOT subset; don't know how to subset; dropped\n"
     ]
    },
    {
     "data": {
      "image/png": "[encoded data removed]",
      "text/plain": [
       "<Figure size 288x216 with 1 Axes>"
      ]
     },
     "metadata": {
      "needs_background": "light"
     },
     "output_type": "display_data"
    }
   ],
   "source": [
    "with plt.style.context({'font.size': 10}):\n",
    "    fig, ax = plt.subplots(figsize=(4, 3))\n",
    "    ax = statplot.plot_swarm_bar(\n",
    "        data=m,\n",
    "        x='trial_type',\n",
    "        y='correct_rt',\n",
    "        hue='pair_type',\n",
    "        light=light,\n",
    "        dark=dark,\n",
    "        point_kind='strip',\n",
    "        width=.6,\n",
    "        legend=False,\n",
    "        ax=ax,\n",
    "    )\n",
    "    ax.axline((3.5, 0), slope=np.Inf, color='k', linestyle='-', linewidth=.5)\n",
    "    ax.set(ylim=(0, 4), ylabel='Response time (s)')\n",
    "    ax.tick_params(axis='x', length=0)\n",
    "    \n",
    "    fontdict = {'horizontalalignment': 'center'}\n",
    "    ax.text(1.5, 4.2, 'Day 1', fontdict=fontdict)\n",
    "    ax.text(5.5, 4.2, 'Day 2', fontdict=fontdict);\n",
    "    \n",
    "    ax.figure.savefig(fig_dir / 'rt.pdf')"
   ]
  },
  {
   "cell_type": "code",
   "execution_count": 16,
   "metadata": {
    "pycharm": {
     "name": "#%%\n"
    }
   },
   "outputs": [
    {
     "name": "stdout",
     "output_type": "stream",
     "text": [
      "Python implementation: CPython\n",
      "Python version       : 3.9.7\n",
      "IPython version      : 8.3.0\n",
      "\n",
      "mindstorm   : 0.9.0\n",
      "bender_study: 0.1.0\n",
      "seaborn     : 0.11.2\n",
      "pingouin    : 0.5.2\n",
      "scipy       : 1.8.0\n",
      "matplotlib  : 3.5.1\n",
      "numpy       : 1.22.3\n",
      "\n"
     ]
    }
   ],
   "source": [
    "%load_ext watermark\n",
    "%watermark -v -iv"
   ]
  }
 ],
 "metadata": {
  "kernelspec": {
   "display_name": "bender_study",
   "language": "python",
   "name": "bender_study"
  },
  "language_info": {
   "codemirror_mode": {
    "name": "ipython",
    "version": 3
   },
   "file_extension": ".py",
   "mimetype": "text/x-python",
   "name": "python",
   "nbconvert_exporter": "python",
   "pygments_lexer": "ipython3",
   "version": "3.9.7"
  },
  "toc-autonumbering": false,
  "toc-showcode": false,
  "toc-showmarkdowntxt": false
 },
 "nbformat": 4,
 "nbformat_minor": 4
}
