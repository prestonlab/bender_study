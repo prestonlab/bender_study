{
 "cells": [
  {
   "cell_type": "markdown",
   "id": "762340a8-ded9-4f7d-92d6-87bf5f4b3abd",
   "metadata": {},
   "source": [
    "# Relationship between item reactivation and semantic integration"
   ]
  },
  {
   "cell_type": "code",
   "execution_count": 1,
   "id": "97d40d00-18d9-4dc8-a570-ad1ae66ceb67",
   "metadata": {},
   "outputs": [],
   "source": [
    "import os\n",
    "from pathlib import Path\n",
    "import numpy as np\n",
    "import pingouin as pg\n",
    "import matplotlib.pyplot as plt\n",
    "import seaborn as sns\n",
    "from mindstorm import statplot\n",
    "from bender_study import rsa\n",
    "from bender_study import task\n",
    "\n",
    "bids_dir = Path(os.environ['BENDER_BIDS']) / 'rawdata'\n",
    "res_dir = Path(os.environ['BENDER_RESULTS'])\n",
    "fig_dir = Path(os.environ['BENDER_FIGURES']) / 'plots'\n",
    "\n",
    "rdm_dir = res_dir / 'batch' / 'glm' / 'study_stim2'\n",
    "model_file = res_dir / 'batch' / 'semantics' / 'wiki_w2v.npz'"
   ]
  },
  {
   "cell_type": "markdown",
   "id": "23711ad6-d816-49c9-890a-2999205b650a",
   "metadata": {},
   "source": [
    "## Load behavioral study phase data"
   ]
  },
  {
   "cell_type": "code",
   "execution_count": 2,
   "id": "50adfae4-5d2f-46c5-b777-a0a4721d67e5",
   "metadata": {},
   "outputs": [],
   "source": [
    "subjects = task.get_subjects('react')\n",
    "dfs = [\n",
    "    (\n",
    "        task.load_merged_study_events(bids_dir, s)\n",
    "        .sort_values('group')\n",
    "        .query('pair_type == \"BC\"')\n",
    "    ) for s in subjects\n",
    "]"
   ]
  },
  {
   "cell_type": "markdown",
   "id": "27cd703d-328e-4a5c-ae1d-d686e9c15e4d",
   "metadata": {},
   "source": [
    "## Load model of semantic similarity"
   ]
  },
  {
   "cell_type": "code",
   "execution_count": 3,
   "id": "d41af63a-f445-4f7a-9430-04bc6b353346",
   "metadata": {},
   "outputs": [],
   "source": [
    "model = np.load(model_file)"
   ]
  },
  {
   "cell_type": "markdown",
   "id": "aed4ee48-26f7-431f-b72b-b77b5448bc73",
   "metadata": {},
   "source": [
    "## Load neural RDMs"
   ]
  },
  {
   "cell_type": "code",
   "execution_count": 4,
   "id": "00cb99df-756e-4306-afae-af1d767d05ba",
   "metadata": {},
   "outputs": [],
   "source": [
    "# load the pre-exposure to study representational \n",
    "# dissimilarity matrix for each ROI and subject\n",
    "suffix = 'dil1c'\n",
    "\n",
    "# pre-exposure to study pattern similarity for potential control region\n",
    "item_rois = ['amPFC']\n",
    "item_clusters = ['ampfc']\n",
    "item_analyses = ['cat_react_item_sme2']\n",
    "item_rdms = rsa.load_roi_rdms(\n",
    "    rdm_dir / 'react', subjects, item_rois, item_analyses, item_clusters, suffix\n",
    ")\n",
    "\n",
    "# study pattern similarity for ROIs that correlate with semantic integration model\n",
    "integ_rois = ['aHPC', 'RPRC']\n",
    "integ_clusters = ['rhpc', 'rprc']\n",
    "integ_analyses = [\n",
    "    'study_wiki_w2v_fix_cont_ac_bx_sme', 'study_wiki_w2v_fix_cont_ac_bx_sme'\n",
    "]\n",
    "integ_rdms = rsa.load_roi_rdms(\n",
    "    rdm_dir / 'rdm', subjects, integ_rois, integ_analyses, integ_clusters, suffix\n",
    ")"
   ]
  },
  {
   "cell_type": "markdown",
   "id": "8e7262f8-3b43-4078-a785-0f1b9cacaa1d",
   "metadata": {},
   "source": [
    "## Relationship between item suppression and integration"
   ]
  },
  {
   "cell_type": "code",
   "execution_count": 5,
   "id": "74f6609d-b24e-4710-a9c0-c37306b326b4",
   "metadata": {},
   "outputs": [],
   "source": [
    "results = rsa.item_model_correlation(subjects, item_rdms, integ_rdms, dfs, model)\n",
    "\n",
    "acc = results.set_index(['correct', 'subject', 'item_roi', 'integ_roi'])\n",
    "sme = acc.loc[1] - acc.loc[0]"
   ]
  },
  {
   "cell_type": "markdown",
   "id": "978fc659-f296-4a5b-985b-1fa633e34d63",
   "metadata": {},
   "source": [
    "### Incorrect trials"
   ]
  },
  {
   "cell_type": "code",
   "execution_count": 6,
   "id": "399b1086-b470-4af0-8734-d83518f19a51",
   "metadata": {},
   "outputs": [
    {
     "data": {
      "text/html": [
       "<div>\n",
       "<style scoped>\n",
       "    .dataframe tbody tr th:only-of-type {\n",
       "        vertical-align: middle;\n",
       "    }\n",
       "\n",
       "    .dataframe tbody tr th {\n",
       "        vertical-align: top;\n",
       "    }\n",
       "\n",
       "    .dataframe thead th {\n",
       "        text-align: right;\n",
       "    }\n",
       "</style>\n",
       "<table border=\"1\" class=\"dataframe\">\n",
       "  <thead>\n",
       "    <tr style=\"text-align: right;\">\n",
       "      <th></th>\n",
       "      <th></th>\n",
       "      <th>mean</th>\n",
       "      <th>sem</th>\n",
       "    </tr>\n",
       "    <tr>\n",
       "      <th>item_roi</th>\n",
       "      <th>integ_roi</th>\n",
       "      <th></th>\n",
       "      <th></th>\n",
       "    </tr>\n",
       "  </thead>\n",
       "  <tbody>\n",
       "    <tr>\n",
       "      <th rowspan=\"2\" valign=\"top\">amPFC</th>\n",
       "      <th>RPRC</th>\n",
       "      <td>-0.053663</td>\n",
       "      <td>0.043923</td>\n",
       "    </tr>\n",
       "    <tr>\n",
       "      <th>aHPC</th>\n",
       "      <td>0.160530</td>\n",
       "      <td>0.070378</td>\n",
       "    </tr>\n",
       "  </tbody>\n",
       "</table>\n",
       "</div>"
      ],
      "text/plain": [
       "                        mean       sem\n",
       "item_roi integ_roi                    \n",
       "amPFC    RPRC      -0.053663  0.043923\n",
       "         aHPC       0.160530  0.070378"
      ]
     },
     "execution_count": 6,
     "metadata": {},
     "output_type": "execute_result"
    }
   ],
   "source": [
    "groups = acc.loc[0].groupby(['item_roi', 'integ_roi'])['slope']\n",
    "groups.agg(['mean', 'sem'])"
   ]
  },
  {
   "cell_type": "code",
   "execution_count": 7,
   "id": "f209b4c4-4cd5-4e3c-a5f9-e30c69925945",
   "metadata": {},
   "outputs": [
    {
     "data": {
      "text/html": [
       "<div>\n",
       "<style scoped>\n",
       "    .dataframe tbody tr th:only-of-type {\n",
       "        vertical-align: middle;\n",
       "    }\n",
       "\n",
       "    .dataframe tbody tr th {\n",
       "        vertical-align: top;\n",
       "    }\n",
       "\n",
       "    .dataframe thead th {\n",
       "        text-align: right;\n",
       "    }\n",
       "</style>\n",
       "<table border=\"1\" class=\"dataframe\">\n",
       "  <thead>\n",
       "    <tr style=\"text-align: right;\">\n",
       "      <th></th>\n",
       "      <th></th>\n",
       "      <th></th>\n",
       "      <th>T</th>\n",
       "      <th>dof</th>\n",
       "      <th>alternative</th>\n",
       "      <th>p-val</th>\n",
       "      <th>CI95%</th>\n",
       "      <th>cohen-d</th>\n",
       "      <th>BF10</th>\n",
       "      <th>power</th>\n",
       "    </tr>\n",
       "    <tr>\n",
       "      <th>item_roi</th>\n",
       "      <th>integ_roi</th>\n",
       "      <th></th>\n",
       "      <th></th>\n",
       "      <th></th>\n",
       "      <th></th>\n",
       "      <th></th>\n",
       "      <th></th>\n",
       "      <th></th>\n",
       "      <th></th>\n",
       "      <th></th>\n",
       "    </tr>\n",
       "  </thead>\n",
       "  <tbody>\n",
       "    <tr>\n",
       "      <th rowspan=\"2\" valign=\"top\">amPFC</th>\n",
       "      <th>RPRC</th>\n",
       "      <th>T-test</th>\n",
       "      <td>-1.221745</td>\n",
       "      <td>28</td>\n",
       "      <td>two-sided</td>\n",
       "      <td>0.231991</td>\n",
       "      <td>[-0.14, 0.04]</td>\n",
       "      <td>0.226872</td>\n",
       "      <td>0.387</td>\n",
       "      <td>0.218579</td>\n",
       "    </tr>\n",
       "    <tr>\n",
       "      <th>aHPC</th>\n",
       "      <th>T-test</th>\n",
       "      <td>2.280966</td>\n",
       "      <td>28</td>\n",
       "      <td>two-sided</td>\n",
       "      <td>0.030360</td>\n",
       "      <td>[0.02, 0.3]</td>\n",
       "      <td>0.423565</td>\n",
       "      <td>1.81</td>\n",
       "      <td>0.595754</td>\n",
       "    </tr>\n",
       "  </tbody>\n",
       "</table>\n",
       "</div>"
      ],
      "text/plain": [
       "                                  T  dof alternative     p-val          CI95%  \\\n",
       "item_roi integ_roi                                                              \n",
       "amPFC    RPRC      T-test -1.221745   28   two-sided  0.231991  [-0.14, 0.04]   \n",
       "         aHPC      T-test  2.280966   28   two-sided  0.030360    [0.02, 0.3]   \n",
       "\n",
       "                            cohen-d   BF10     power  \n",
       "item_roi integ_roi                                    \n",
       "amPFC    RPRC      T-test  0.226872  0.387  0.218579  \n",
       "         aHPC      T-test  0.423565   1.81  0.595754  "
      ]
     },
     "execution_count": 7,
     "metadata": {},
     "output_type": "execute_result"
    }
   ],
   "source": [
    "groups.apply(pg.ttest, 0)"
   ]
  },
  {
   "cell_type": "code",
   "execution_count": 8,
   "id": "ec7f9bc6-40e0-4797-997a-c589f9473807",
   "metadata": {},
   "outputs": [
    {
     "data": {
      "text/html": [
       "<div>\n",
       "<style scoped>\n",
       "    .dataframe tbody tr th:only-of-type {\n",
       "        vertical-align: middle;\n",
       "    }\n",
       "\n",
       "    .dataframe tbody tr th {\n",
       "        vertical-align: top;\n",
       "    }\n",
       "\n",
       "    .dataframe thead th {\n",
       "        text-align: right;\n",
       "    }\n",
       "</style>\n",
       "<table border=\"1\" class=\"dataframe\">\n",
       "  <thead>\n",
       "    <tr style=\"text-align: right;\">\n",
       "      <th></th>\n",
       "      <th></th>\n",
       "      <th></th>\n",
       "      <th>W-val</th>\n",
       "      <th>alternative</th>\n",
       "      <th>p-val</th>\n",
       "      <th>RBC</th>\n",
       "      <th>CLES</th>\n",
       "    </tr>\n",
       "    <tr>\n",
       "      <th>item_roi</th>\n",
       "      <th>integ_roi</th>\n",
       "      <th></th>\n",
       "      <th></th>\n",
       "      <th></th>\n",
       "      <th></th>\n",
       "      <th></th>\n",
       "      <th></th>\n",
       "    </tr>\n",
       "  </thead>\n",
       "  <tbody>\n",
       "    <tr>\n",
       "      <th rowspan=\"2\" valign=\"top\">amPFC</th>\n",
       "      <th>RPRC</th>\n",
       "      <th>Wilcoxon</th>\n",
       "      <td>148.0</td>\n",
       "      <td>two-sided</td>\n",
       "      <td>0.135699</td>\n",
       "      <td>-0.319540</td>\n",
       "      <td>0.344828</td>\n",
       "    </tr>\n",
       "    <tr>\n",
       "      <th>aHPC</th>\n",
       "      <th>Wilcoxon</th>\n",
       "      <td>111.0</td>\n",
       "      <td>two-sided</td>\n",
       "      <td>0.021902</td>\n",
       "      <td>0.489655</td>\n",
       "      <td>0.655172</td>\n",
       "    </tr>\n",
       "  </tbody>\n",
       "</table>\n",
       "</div>"
      ],
      "text/plain": [
       "                             W-val alternative     p-val       RBC      CLES\n",
       "item_roi integ_roi                                                          \n",
       "amPFC    RPRC      Wilcoxon  148.0   two-sided  0.135699 -0.319540  0.344828\n",
       "         aHPC      Wilcoxon  111.0   two-sided  0.021902  0.489655  0.655172"
      ]
     },
     "execution_count": 8,
     "metadata": {},
     "output_type": "execute_result"
    }
   ],
   "source": [
    "groups.apply(pg.wilcoxon, np.zeros(len(subjects)))"
   ]
  },
  {
   "cell_type": "markdown",
   "id": "0f79da63-0475-4f85-a428-8d6c7a862186",
   "metadata": {},
   "source": [
    "### Correct trials"
   ]
  },
  {
   "cell_type": "code",
   "execution_count": 9,
   "id": "db641d71-ac88-42cb-a2cc-eac45a02da60",
   "metadata": {},
   "outputs": [
    {
     "data": {
      "text/html": [
       "<div>\n",
       "<style scoped>\n",
       "    .dataframe tbody tr th:only-of-type {\n",
       "        vertical-align: middle;\n",
       "    }\n",
       "\n",
       "    .dataframe tbody tr th {\n",
       "        vertical-align: top;\n",
       "    }\n",
       "\n",
       "    .dataframe thead th {\n",
       "        text-align: right;\n",
       "    }\n",
       "</style>\n",
       "<table border=\"1\" class=\"dataframe\">\n",
       "  <thead>\n",
       "    <tr style=\"text-align: right;\">\n",
       "      <th></th>\n",
       "      <th></th>\n",
       "      <th>mean</th>\n",
       "      <th>sem</th>\n",
       "    </tr>\n",
       "    <tr>\n",
       "      <th>item_roi</th>\n",
       "      <th>integ_roi</th>\n",
       "      <th></th>\n",
       "      <th></th>\n",
       "    </tr>\n",
       "  </thead>\n",
       "  <tbody>\n",
       "    <tr>\n",
       "      <th rowspan=\"2\" valign=\"top\">amPFC</th>\n",
       "      <th>RPRC</th>\n",
       "      <td>0.004289</td>\n",
       "      <td>0.004902</td>\n",
       "    </tr>\n",
       "    <tr>\n",
       "      <th>aHPC</th>\n",
       "      <td>-0.005582</td>\n",
       "      <td>0.006877</td>\n",
       "    </tr>\n",
       "  </tbody>\n",
       "</table>\n",
       "</div>"
      ],
      "text/plain": [
       "                        mean       sem\n",
       "item_roi integ_roi                    \n",
       "amPFC    RPRC       0.004289  0.004902\n",
       "         aHPC      -0.005582  0.006877"
      ]
     },
     "execution_count": 9,
     "metadata": {},
     "output_type": "execute_result"
    }
   ],
   "source": [
    "groups = acc.loc[1].groupby(['item_roi', 'integ_roi'])['slope']\n",
    "groups.agg(['mean', 'sem'])"
   ]
  },
  {
   "cell_type": "code",
   "execution_count": 10,
   "id": "ba28c943-7ebf-4fed-90fb-bfca384563cb",
   "metadata": {},
   "outputs": [
    {
     "data": {
      "text/html": [
       "<div>\n",
       "<style scoped>\n",
       "    .dataframe tbody tr th:only-of-type {\n",
       "        vertical-align: middle;\n",
       "    }\n",
       "\n",
       "    .dataframe tbody tr th {\n",
       "        vertical-align: top;\n",
       "    }\n",
       "\n",
       "    .dataframe thead th {\n",
       "        text-align: right;\n",
       "    }\n",
       "</style>\n",
       "<table border=\"1\" class=\"dataframe\">\n",
       "  <thead>\n",
       "    <tr style=\"text-align: right;\">\n",
       "      <th></th>\n",
       "      <th></th>\n",
       "      <th></th>\n",
       "      <th>T</th>\n",
       "      <th>dof</th>\n",
       "      <th>alternative</th>\n",
       "      <th>p-val</th>\n",
       "      <th>CI95%</th>\n",
       "      <th>cohen-d</th>\n",
       "      <th>BF10</th>\n",
       "      <th>power</th>\n",
       "    </tr>\n",
       "    <tr>\n",
       "      <th>item_roi</th>\n",
       "      <th>integ_roi</th>\n",
       "      <th></th>\n",
       "      <th></th>\n",
       "      <th></th>\n",
       "      <th></th>\n",
       "      <th></th>\n",
       "      <th></th>\n",
       "      <th></th>\n",
       "      <th></th>\n",
       "      <th></th>\n",
       "    </tr>\n",
       "  </thead>\n",
       "  <tbody>\n",
       "    <tr>\n",
       "      <th rowspan=\"2\" valign=\"top\">amPFC</th>\n",
       "      <th>RPRC</th>\n",
       "      <th>T-test</th>\n",
       "      <td>0.875013</td>\n",
       "      <td>29</td>\n",
       "      <td>two-sided</td>\n",
       "      <td>0.388757</td>\n",
       "      <td>[-0.01, 0.01]</td>\n",
       "      <td>0.159755</td>\n",
       "      <td>0.276</td>\n",
       "      <td>0.135218</td>\n",
       "    </tr>\n",
       "    <tr>\n",
       "      <th>aHPC</th>\n",
       "      <th>T-test</th>\n",
       "      <td>-0.811664</td>\n",
       "      <td>29</td>\n",
       "      <td>two-sided</td>\n",
       "      <td>0.423597</td>\n",
       "      <td>[-0.02, 0.01]</td>\n",
       "      <td>0.148189</td>\n",
       "      <td>0.263</td>\n",
       "      <td>0.123039</td>\n",
       "    </tr>\n",
       "  </tbody>\n",
       "</table>\n",
       "</div>"
      ],
      "text/plain": [
       "                                  T  dof alternative     p-val          CI95%  \\\n",
       "item_roi integ_roi                                                              \n",
       "amPFC    RPRC      T-test  0.875013   29   two-sided  0.388757  [-0.01, 0.01]   \n",
       "         aHPC      T-test -0.811664   29   two-sided  0.423597  [-0.02, 0.01]   \n",
       "\n",
       "                            cohen-d   BF10     power  \n",
       "item_roi integ_roi                                    \n",
       "amPFC    RPRC      T-test  0.159755  0.276  0.135218  \n",
       "         aHPC      T-test  0.148189  0.263  0.123039  "
      ]
     },
     "execution_count": 10,
     "metadata": {},
     "output_type": "execute_result"
    }
   ],
   "source": [
    "groups.apply(pg.ttest, 0)"
   ]
  },
  {
   "cell_type": "code",
   "execution_count": 11,
   "id": "8b525459-dbc4-436b-bb6d-c260db63f8e7",
   "metadata": {},
   "outputs": [
    {
     "data": {
      "text/html": [
       "<div>\n",
       "<style scoped>\n",
       "    .dataframe tbody tr th:only-of-type {\n",
       "        vertical-align: middle;\n",
       "    }\n",
       "\n",
       "    .dataframe tbody tr th {\n",
       "        vertical-align: top;\n",
       "    }\n",
       "\n",
       "    .dataframe thead th {\n",
       "        text-align: right;\n",
       "    }\n",
       "</style>\n",
       "<table border=\"1\" class=\"dataframe\">\n",
       "  <thead>\n",
       "    <tr style=\"text-align: right;\">\n",
       "      <th></th>\n",
       "      <th></th>\n",
       "      <th></th>\n",
       "      <th>W-val</th>\n",
       "      <th>alternative</th>\n",
       "      <th>p-val</th>\n",
       "      <th>RBC</th>\n",
       "      <th>CLES</th>\n",
       "    </tr>\n",
       "    <tr>\n",
       "      <th>item_roi</th>\n",
       "      <th>integ_roi</th>\n",
       "      <th></th>\n",
       "      <th></th>\n",
       "      <th></th>\n",
       "      <th></th>\n",
       "      <th></th>\n",
       "      <th></th>\n",
       "    </tr>\n",
       "  </thead>\n",
       "  <tbody>\n",
       "    <tr>\n",
       "      <th rowspan=\"2\" valign=\"top\">amPFC</th>\n",
       "      <th>RPRC</th>\n",
       "      <th>Wilcoxon</th>\n",
       "      <td>188.0</td>\n",
       "      <td>two-sided</td>\n",
       "      <td>0.365462</td>\n",
       "      <td>0.191398</td>\n",
       "      <td>0.5</td>\n",
       "    </tr>\n",
       "    <tr>\n",
       "      <th>aHPC</th>\n",
       "      <th>Wilcoxon</th>\n",
       "      <td>190.0</td>\n",
       "      <td>two-sided</td>\n",
       "      <td>0.387659</td>\n",
       "      <td>-0.182796</td>\n",
       "      <td>0.4</td>\n",
       "    </tr>\n",
       "  </tbody>\n",
       "</table>\n",
       "</div>"
      ],
      "text/plain": [
       "                             W-val alternative     p-val       RBC  CLES\n",
       "item_roi integ_roi                                                      \n",
       "amPFC    RPRC      Wilcoxon  188.0   two-sided  0.365462  0.191398   0.5\n",
       "         aHPC      Wilcoxon  190.0   two-sided  0.387659 -0.182796   0.4"
      ]
     },
     "execution_count": 11,
     "metadata": {},
     "output_type": "execute_result"
    }
   ],
   "source": [
    "groups.apply(pg.wilcoxon, np.zeros(len(subjects)))"
   ]
  },
  {
   "cell_type": "markdown",
   "id": "195473df-c4a6-41bd-8941-4be895bd98f2",
   "metadata": {},
   "source": [
    "### Subsequent memory effect"
   ]
  },
  {
   "cell_type": "code",
   "execution_count": 12,
   "id": "55e0420c-d7d1-4351-a324-953fbf7d3a74",
   "metadata": {},
   "outputs": [
    {
     "data": {
      "text/html": [
       "<div>\n",
       "<style scoped>\n",
       "    .dataframe tbody tr th:only-of-type {\n",
       "        vertical-align: middle;\n",
       "    }\n",
       "\n",
       "    .dataframe tbody tr th {\n",
       "        vertical-align: top;\n",
       "    }\n",
       "\n",
       "    .dataframe thead th {\n",
       "        text-align: right;\n",
       "    }\n",
       "</style>\n",
       "<table border=\"1\" class=\"dataframe\">\n",
       "  <thead>\n",
       "    <tr style=\"text-align: right;\">\n",
       "      <th></th>\n",
       "      <th></th>\n",
       "      <th>mean</th>\n",
       "      <th>sem</th>\n",
       "    </tr>\n",
       "    <tr>\n",
       "      <th>item_roi</th>\n",
       "      <th>integ_roi</th>\n",
       "      <th></th>\n",
       "      <th></th>\n",
       "    </tr>\n",
       "  </thead>\n",
       "  <tbody>\n",
       "    <tr>\n",
       "      <th rowspan=\"2\" valign=\"top\">amPFC</th>\n",
       "      <th>RPRC</th>\n",
       "      <td>0.057557</td>\n",
       "      <td>0.044828</td>\n",
       "    </tr>\n",
       "    <tr>\n",
       "      <th>aHPC</th>\n",
       "      <td>-0.166306</td>\n",
       "      <td>0.070481</td>\n",
       "    </tr>\n",
       "  </tbody>\n",
       "</table>\n",
       "</div>"
      ],
      "text/plain": [
       "                        mean       sem\n",
       "item_roi integ_roi                    \n",
       "amPFC    RPRC       0.057557  0.044828\n",
       "         aHPC      -0.166306  0.070481"
      ]
     },
     "execution_count": 12,
     "metadata": {},
     "output_type": "execute_result"
    }
   ],
   "source": [
    "groups = sme.groupby(['item_roi', 'integ_roi'])['slope']\n",
    "groups.agg(['mean', 'sem'])"
   ]
  },
  {
   "cell_type": "code",
   "execution_count": 13,
   "id": "711dea63-895a-4ef7-8424-06c06487cdad",
   "metadata": {},
   "outputs": [
    {
     "data": {
      "text/html": [
       "<div>\n",
       "<style scoped>\n",
       "    .dataframe tbody tr th:only-of-type {\n",
       "        vertical-align: middle;\n",
       "    }\n",
       "\n",
       "    .dataframe tbody tr th {\n",
       "        vertical-align: top;\n",
       "    }\n",
       "\n",
       "    .dataframe thead th {\n",
       "        text-align: right;\n",
       "    }\n",
       "</style>\n",
       "<table border=\"1\" class=\"dataframe\">\n",
       "  <thead>\n",
       "    <tr style=\"text-align: right;\">\n",
       "      <th></th>\n",
       "      <th></th>\n",
       "      <th></th>\n",
       "      <th>T</th>\n",
       "      <th>dof</th>\n",
       "      <th>alternative</th>\n",
       "      <th>p-val</th>\n",
       "      <th>CI95%</th>\n",
       "      <th>cohen-d</th>\n",
       "      <th>BF10</th>\n",
       "      <th>power</th>\n",
       "    </tr>\n",
       "    <tr>\n",
       "      <th>item_roi</th>\n",
       "      <th>integ_roi</th>\n",
       "      <th></th>\n",
       "      <th></th>\n",
       "      <th></th>\n",
       "      <th></th>\n",
       "      <th></th>\n",
       "      <th></th>\n",
       "      <th></th>\n",
       "      <th></th>\n",
       "      <th></th>\n",
       "    </tr>\n",
       "  </thead>\n",
       "  <tbody>\n",
       "    <tr>\n",
       "      <th rowspan=\"2\" valign=\"top\">amPFC</th>\n",
       "      <th>RPRC</th>\n",
       "      <th>T-test</th>\n",
       "      <td>1.283946</td>\n",
       "      <td>28</td>\n",
       "      <td>two-sided</td>\n",
       "      <td>0.209684</td>\n",
       "      <td>[-0.03, 0.15]</td>\n",
       "      <td>0.238423</td>\n",
       "      <td>0.415</td>\n",
       "      <td>0.236506</td>\n",
       "    </tr>\n",
       "    <tr>\n",
       "      <th>aHPC</th>\n",
       "      <th>T-test</th>\n",
       "      <td>-2.359570</td>\n",
       "      <td>28</td>\n",
       "      <td>two-sided</td>\n",
       "      <td>0.025502</td>\n",
       "      <td>[-0.31, -0.02]</td>\n",
       "      <td>0.438161</td>\n",
       "      <td>2.087</td>\n",
       "      <td>0.624827</td>\n",
       "    </tr>\n",
       "  </tbody>\n",
       "</table>\n",
       "</div>"
      ],
      "text/plain": [
       "                                  T  dof alternative     p-val  \\\n",
       "item_roi integ_roi                                               \n",
       "amPFC    RPRC      T-test  1.283946   28   two-sided  0.209684   \n",
       "         aHPC      T-test -2.359570   28   two-sided  0.025502   \n",
       "\n",
       "                                    CI95%   cohen-d   BF10     power  \n",
       "item_roi integ_roi                                                    \n",
       "amPFC    RPRC      T-test   [-0.03, 0.15]  0.238423  0.415  0.236506  \n",
       "         aHPC      T-test  [-0.31, -0.02]  0.438161  2.087  0.624827  "
      ]
     },
     "execution_count": 13,
     "metadata": {},
     "output_type": "execute_result"
    }
   ],
   "source": [
    "groups.apply(pg.ttest, 0)"
   ]
  },
  {
   "cell_type": "code",
   "execution_count": 14,
   "id": "5b947a32-c053-4d64-8e8c-4591ff1eca0a",
   "metadata": {},
   "outputs": [
    {
     "data": {
      "text/html": [
       "<div>\n",
       "<style scoped>\n",
       "    .dataframe tbody tr th:only-of-type {\n",
       "        vertical-align: middle;\n",
       "    }\n",
       "\n",
       "    .dataframe tbody tr th {\n",
       "        vertical-align: top;\n",
       "    }\n",
       "\n",
       "    .dataframe thead th {\n",
       "        text-align: right;\n",
       "    }\n",
       "</style>\n",
       "<table border=\"1\" class=\"dataframe\">\n",
       "  <thead>\n",
       "    <tr style=\"text-align: right;\">\n",
       "      <th></th>\n",
       "      <th></th>\n",
       "      <th></th>\n",
       "      <th>W-val</th>\n",
       "      <th>alternative</th>\n",
       "      <th>p-val</th>\n",
       "      <th>RBC</th>\n",
       "      <th>CLES</th>\n",
       "    </tr>\n",
       "    <tr>\n",
       "      <th>item_roi</th>\n",
       "      <th>integ_roi</th>\n",
       "      <th></th>\n",
       "      <th></th>\n",
       "      <th></th>\n",
       "      <th></th>\n",
       "      <th></th>\n",
       "      <th></th>\n",
       "    </tr>\n",
       "  </thead>\n",
       "  <tbody>\n",
       "    <tr>\n",
       "      <th rowspan=\"2\" valign=\"top\">amPFC</th>\n",
       "      <th>RPRC</th>\n",
       "      <th>Wilcoxon</th>\n",
       "      <td>157.0</td>\n",
       "      <td>two-sided</td>\n",
       "      <td>0.194496</td>\n",
       "      <td>0.278161</td>\n",
       "      <td>0.586207</td>\n",
       "    </tr>\n",
       "    <tr>\n",
       "      <th>aHPC</th>\n",
       "      <th>Wilcoxon</th>\n",
       "      <td>101.0</td>\n",
       "      <td>two-sided</td>\n",
       "      <td>0.012132</td>\n",
       "      <td>-0.535632</td>\n",
       "      <td>0.379310</td>\n",
       "    </tr>\n",
       "  </tbody>\n",
       "</table>\n",
       "</div>"
      ],
      "text/plain": [
       "                             W-val alternative     p-val       RBC      CLES\n",
       "item_roi integ_roi                                                          \n",
       "amPFC    RPRC      Wilcoxon  157.0   two-sided  0.194496  0.278161  0.586207\n",
       "         aHPC      Wilcoxon  101.0   two-sided  0.012132 -0.535632  0.379310"
      ]
     },
     "execution_count": 14,
     "metadata": {},
     "output_type": "execute_result"
    }
   ],
   "source": [
    "groups.apply(pg.wilcoxon, np.zeros(len(subjects)))"
   ]
  },
  {
   "cell_type": "markdown",
   "id": "f5dccdbf-b25c-4541-a765-4c6e9dbb549c",
   "metadata": {},
   "source": [
    "### Plot correlation by ROI and accuracy"
   ]
  },
  {
   "cell_type": "code",
   "execution_count": 15,
   "id": "c051eeb1-a119-4d5c-8796-f181314e1ca5",
   "metadata": {},
   "outputs": [],
   "source": [
    "dark = sns.color_palette(\n",
    "    [\n",
    "        (1.0000, 0.2784, 0.5647),\n",
    "        (0.4000, 0.4000, 0.4000),\n",
    "    ]\n",
    ")\n",
    "light = sns.color_palette(\n",
    "    [\n",
    "        (1.0000, 0.5961, 0.8275),\n",
    "        (0.8000, 0.8000, 0.8000),\n",
    "    ]\n",
    ")"
   ]
  },
  {
   "cell_type": "code",
   "execution_count": 16,
   "id": "8c826d7b-cd79-43ec-80f9-65fe718a25a6",
   "metadata": {},
   "outputs": [
    {
     "name": "stderr",
     "output_type": "stream",
     "text": [
      "LINO NOT subset; don't know how to subset; dropped\n"
     ]
    },
    {
     "data": {
      "image/png": "[encoded data removed]",
      "text/plain": [
       "<Figure size 180x216 with 1 Axes>"
      ]
     },
     "metadata": {
      "needs_background": "light"
     },
     "output_type": "display_data"
    }
   ],
   "source": [
    "m = acc.reset_index().query('item_roi == \"amPFC\"')\n",
    "m['Inference'] = m['correct'].map({0: 'Incorrect', 1: 'Correct'})\n",
    "\n",
    "fig, ax = plt.subplots(figsize=(2.5, 3))\n",
    "ax.set(ylim=(-0.8, 2.1))\n",
    "ax = statplot.plot_swarm_bar(\n",
    "    data=m, \n",
    "    x='integ_roi', \n",
    "    y='slope', \n",
    "    hue='Inference',\n",
    "    hue_order=['Correct', 'Incorrect'],\n",
    "    dodge=True,\n",
    "    bar_kws=dict(capsize=.25),\n",
    "    light=light,\n",
    "    dark=dark,\n",
    "    point_kind='strip',\n",
    "    sig_diff_ind=[[0, 1]],\n",
    "    ax=ax,\n",
    ")\n",
    "\n",
    "xlim = ax.get_xlim()\n",
    "ax.hlines(0, *xlim, colors=['k']);\n",
    "ax.set(xlim=xlim, ylabel='$r_(self)$ – $r_(AC)$ coupling');\n",
    "ax.set_ylabel('$r_{self}$ - $r_{AC}$ coupling', usetex=True)\n",
    "\n",
    "fig.savefig(fig_dir / 'cluster_react_sem.pdf')"
   ]
  },
  {
   "cell_type": "code",
   "execution_count": 17,
   "id": "23a342af-562a-4faa-9b1a-49eba7318584",
   "metadata": {},
   "outputs": [
    {
     "data": {
      "text/html": [
       "<svg  width=\"110\" height=\"55\"><rect x=\"0\" y=\"0\" width=\"55\" height=\"55\" style=\"fill:#b2b2b2;stroke-width:2;stroke:rgb(255,255,255)\"/><rect x=\"55\" y=\"0\" width=\"55\" height=\"55\" style=\"fill:#666666;stroke-width:2;stroke:rgb(255,255,255)\"/></svg>"
      ],
      "text/plain": [
       "[(0.7, 0.7, 0.7), (0.4, 0.4, 0.4)]"
      ]
     },
     "execution_count": 17,
     "metadata": {},
     "output_type": "execute_result"
    }
   ],
   "source": [
    "dark = sns.color_palette(\n",
    "    [\n",
    "        (0.7000, 0.7000, 0.7000),\n",
    "        (0.4000, 0.4000, 0.4000),\n",
    "    ]\n",
    ")\n",
    "light = sns.color_palette(\n",
    "    [\n",
    "        (0.9000, 0.9000, 0.9000),\n",
    "        (0.6000, 0.6000, 0.6000),\n",
    "    ]\n",
    ")\n",
    "dark"
   ]
  },
  {
   "cell_type": "code",
   "execution_count": 18,
   "id": "475b2e36-3819-437d-9d59-aec8043ccd0f",
   "metadata": {},
   "outputs": [
    {
     "data": {
      "text/html": [
       "<svg  width=\"110\" height=\"55\"><rect x=\"0\" y=\"0\" width=\"55\" height=\"55\" style=\"fill:#e6e6e6;stroke-width:2;stroke:rgb(255,255,255)\"/><rect x=\"55\" y=\"0\" width=\"55\" height=\"55\" style=\"fill:#999999;stroke-width:2;stroke:rgb(255,255,255)\"/></svg>"
      ],
      "text/plain": [
       "[(0.9, 0.9, 0.9), (0.6, 0.6, 0.6)]"
      ]
     },
     "execution_count": 18,
     "metadata": {},
     "output_type": "execute_result"
    }
   ],
   "source": [
    "light"
   ]
  },
  {
   "cell_type": "code",
   "execution_count": 19,
   "id": "8031170a-e032-4183-8d5f-4b3f63c20f8e",
   "metadata": {},
   "outputs": [
    {
     "data": {
      "image/png": "[encoded data removed]",
      "text/plain": [
       "<Figure size 180x216 with 1 Axes>"
      ]
     },
     "metadata": {
      "needs_background": "light"
     },
     "output_type": "display_data"
    }
   ],
   "source": [
    "fig, ax = plt.subplots(figsize=(2.5, 3))\n",
    "ax = statplot.plot_swarm_bar(\n",
    "    data=-sme, \n",
    "    x='integ_roi', \n",
    "    y='slope', \n",
    "    dodge=True,\n",
    "    bar_kws=dict(capsize=.25),\n",
    "    light=light,\n",
    "    dark=dark,\n",
    "    point_kind='strip',\n",
    "    ax=ax,\n",
    ")\n",
    "ax.set(ylabel='Coupling change on incorrect trials');"
   ]
  },
  {
   "cell_type": "code",
   "execution_count": 21,
   "id": "5c2c13b9-f2f6-48ae-bbe5-a37b2bd6c7f5",
   "metadata": {},
   "outputs": [
    {
     "name": "stdout",
     "output_type": "stream",
     "text": [
      "Python implementation: CPython\n",
      "Python version       : 3.9.7\n",
      "IPython version      : 8.3.0\n",
      "\n",
      "numpy       : 1.22.3\n",
      "mindstorm   : 0.9.0\n",
      "matplotlib  : 3.5.1\n",
      "pingouin    : 0.5.2\n",
      "seaborn     : 0.11.2\n",
      "bender_study: 0.1.0\n",
      "\n"
     ]
    }
   ],
   "source": [
    "%load_ext watermark\n",
    "%watermark -v -iv"
   ]
  }
 ],
 "metadata": {
  "kernelspec": {
   "display_name": "bender_study",
   "language": "python",
   "name": "bender_study"
  },
  "language_info": {
   "codemirror_mode": {
    "name": "ipython",
    "version": 3
   },
   "file_extension": ".py",
   "mimetype": "text/x-python",
   "name": "python",
   "nbconvert_exporter": "python",
   "pygments_lexer": "ipython3",
   "version": "3.9.7"
  }
 },
 "nbformat": 4,
 "nbformat_minor": 5
}
