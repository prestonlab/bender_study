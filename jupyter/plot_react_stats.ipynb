{
 "cells": [
  {
   "cell_type": "markdown",
   "id": "b32d6325-9eed-4bf5-be8d-7b555d57f5a8",
   "metadata": {},
   "source": [
    "# Calculate item and category reactivation statistics"
   ]
  },
  {
   "cell_type": "code",
   "execution_count": 1,
   "id": "e43197dd-1227-4711-b06f-fe77923c418e",
   "metadata": {},
   "outputs": [],
   "source": [
    "import os\n",
    "from pathlib import Path\n",
    "import numpy as np\n",
    "import matplotlib.pyplot as plt\n",
    "import pandas as pd\n",
    "import seaborn as sns\n",
    "import pingouin as pg\n",
    "from mindstorm import statplot\n",
    "from bender_study import task\n",
    "from bender_study import rsa\n",
    "\n",
    "bids_dir = Path(os.environ['BENDER_BIDS'])\n",
    "res_dir = Path(os.environ['BENDER_RESULTS'])\n",
    "fig_dir = Path(os.environ['BENDER_FIGURES']) / 'plots'\n",
    "\n",
    "react_dir = res_dir / 'batch' / 'glm' / 'study_stim2' / 'react'"
   ]
  },
  {
   "cell_type": "markdown",
   "id": "88c6ec80-b0f5-48ac-9f06-ab21f78694a0",
   "metadata": {},
   "source": [
    "## Load behavioral study phase data"
   ]
  },
  {
   "cell_type": "code",
   "execution_count": 2,
   "id": "5185d4b3-7541-4522-8fd4-e72db9126ef6",
   "metadata": {},
   "outputs": [],
   "source": [
    "subjects = task.get_subjects('react')\n",
    "dfs = [\n",
    "    (\n",
    "        task.load_merged_study_events(bids_dir, s)\n",
    "        .sort_values('group')\n",
    "        .query('pair_type == \"BC\"')\n",
    "    ) for s in subjects\n",
    "]"
   ]
  },
  {
   "cell_type": "markdown",
   "id": "087438e3-f814-45a9-8151-a93175d40930",
   "metadata": {},
   "source": [
    "## Calculate reactivation statistics for each cluster"
   ]
  },
  {
   "cell_type": "code",
   "execution_count": 3,
   "id": "eafd73d5-3e22-4238-b7ee-8de809a46e10",
   "metadata": {},
   "outputs": [],
   "source": [
    "# load the pre-exposure to study representational \n",
    "# dissimilarity matrix for each ROI and subject\n",
    "rois = ['RPHC', 'LPRC', 'RIFG', 'pHPC']\n",
    "analyses = [\n",
    "    'cat_react_item2', 'cat_react_item2', 'cat_react_item2', 'item_suppress_gvt'\n",
    "]\n",
    "clusters = ['rphc', 'lprc', 'rifg', 'phpc']\n",
    "suffix = 'dil1c'\n",
    "roi_rdms = rsa.load_roi_rdms(\n",
    "    react_dir, subjects, rois, analyses, clusters, suffix\n",
    ")\n",
    "\n",
    "# calculate average similarity (Fisher z) for each bin of interest\n",
    "stats = rsa.reactivation_stats(subjects, roi_rdms, dfs)"
   ]
  },
  {
   "cell_type": "code",
   "execution_count": 4,
   "id": "c080fe82-6a2d-4467-98c0-800cf5763bae",
   "metadata": {},
   "outputs": [],
   "source": [
    "# get item and category reactivation in long table format\n",
    "react = pd.melt(\n",
    "    stats.reset_index(), \n",
    "    id_vars=['roi', 'subject'], \n",
    "    value_vars=['item', 'category'], \n",
    "    var_name='Contrast', \n",
    "    value_name='Reactivation',\n",
    ")\n",
    "react['Contrast'] = react['Contrast'].map({'item': 'Item', 'category': 'Category'})"
   ]
  },
  {
   "cell_type": "markdown",
   "id": "20d41891-b696-4f11-85d5-d6156b5f4dee",
   "metadata": {},
   "source": [
    "## Test for item and category reactivation"
   ]
  },
  {
   "cell_type": "code",
   "execution_count": 5,
   "id": "4d093558-dfb7-492f-a702-3a064e3f85b7",
   "metadata": {},
   "outputs": [
    {
     "data": {
      "text/html": [
       "<div>\n",
       "<style scoped>\n",
       "    .dataframe tbody tr th:only-of-type {\n",
       "        vertical-align: middle;\n",
       "    }\n",
       "\n",
       "    .dataframe tbody tr th {\n",
       "        vertical-align: top;\n",
       "    }\n",
       "\n",
       "    .dataframe thead th {\n",
       "        text-align: right;\n",
       "    }\n",
       "</style>\n",
       "<table border=\"1\" class=\"dataframe\">\n",
       "  <thead>\n",
       "    <tr style=\"text-align: right;\">\n",
       "      <th></th>\n",
       "      <th></th>\n",
       "      <th></th>\n",
       "      <th>T</th>\n",
       "      <th>dof</th>\n",
       "      <th>alternative</th>\n",
       "      <th>p-val</th>\n",
       "      <th>CI95%</th>\n",
       "      <th>cohen-d</th>\n",
       "      <th>BF10</th>\n",
       "      <th>power</th>\n",
       "    </tr>\n",
       "    <tr>\n",
       "      <th>Contrast</th>\n",
       "      <th>roi</th>\n",
       "      <th></th>\n",
       "      <th></th>\n",
       "      <th></th>\n",
       "      <th></th>\n",
       "      <th></th>\n",
       "      <th></th>\n",
       "      <th></th>\n",
       "      <th></th>\n",
       "      <th></th>\n",
       "    </tr>\n",
       "  </thead>\n",
       "  <tbody>\n",
       "    <tr>\n",
       "      <th rowspan=\"4\" valign=\"top\">Category</th>\n",
       "      <th>LPRC</th>\n",
       "      <th>T-test</th>\n",
       "      <td>0.749883</td>\n",
       "      <td>29</td>\n",
       "      <td>two-sided</td>\n",
       "      <td>0.459366</td>\n",
       "      <td>[-0.0, 0.0]</td>\n",
       "      <td>0.136909</td>\n",
       "      <td>0.252</td>\n",
       "      <td>0.112102</td>\n",
       "    </tr>\n",
       "    <tr>\n",
       "      <th>RIFG</th>\n",
       "      <th>T-test</th>\n",
       "      <td>-1.881758</td>\n",
       "      <td>29</td>\n",
       "      <td>two-sided</td>\n",
       "      <td>0.069941</td>\n",
       "      <td>[-0.0, 0.0]</td>\n",
       "      <td>0.343560</td>\n",
       "      <td>0.919</td>\n",
       "      <td>0.444175</td>\n",
       "    </tr>\n",
       "    <tr>\n",
       "      <th>RPHC</th>\n",
       "      <th>T-test</th>\n",
       "      <td>2.820018</td>\n",
       "      <td>29</td>\n",
       "      <td>two-sided</td>\n",
       "      <td>0.008571</td>\n",
       "      <td>[0.0, 0.01]</td>\n",
       "      <td>0.514862</td>\n",
       "      <td>5.133</td>\n",
       "      <td>0.778048</td>\n",
       "    </tr>\n",
       "    <tr>\n",
       "      <th>pHPC</th>\n",
       "      <th>T-test</th>\n",
       "      <td>2.184827</td>\n",
       "      <td>29</td>\n",
       "      <td>two-sided</td>\n",
       "      <td>0.037130</td>\n",
       "      <td>[0.0, 0.01]</td>\n",
       "      <td>0.398893</td>\n",
       "      <td>1.519</td>\n",
       "      <td>0.560506</td>\n",
       "    </tr>\n",
       "    <tr>\n",
       "      <th rowspan=\"4\" valign=\"top\">Item</th>\n",
       "      <th>LPRC</th>\n",
       "      <th>T-test</th>\n",
       "      <td>3.163217</td>\n",
       "      <td>29</td>\n",
       "      <td>two-sided</td>\n",
       "      <td>0.003645</td>\n",
       "      <td>[0.01, 0.03]</td>\n",
       "      <td>0.577522</td>\n",
       "      <td>10.69</td>\n",
       "      <td>0.863663</td>\n",
       "    </tr>\n",
       "    <tr>\n",
       "      <th>RIFG</th>\n",
       "      <th>T-test</th>\n",
       "      <td>3.377981</td>\n",
       "      <td>29</td>\n",
       "      <td>two-sided</td>\n",
       "      <td>0.002097</td>\n",
       "      <td>[0.0, 0.02]</td>\n",
       "      <td>0.616732</td>\n",
       "      <td>17.286</td>\n",
       "      <td>0.903919</td>\n",
       "    </tr>\n",
       "    <tr>\n",
       "      <th>RPHC</th>\n",
       "      <th>T-test</th>\n",
       "      <td>4.126298</td>\n",
       "      <td>29</td>\n",
       "      <td>two-sided</td>\n",
       "      <td>0.000284</td>\n",
       "      <td>[0.01, 0.02]</td>\n",
       "      <td>0.753356</td>\n",
       "      <td>101.618</td>\n",
       "      <td>0.978628</td>\n",
       "    </tr>\n",
       "    <tr>\n",
       "      <th>pHPC</th>\n",
       "      <th>T-test</th>\n",
       "      <td>-2.912150</td>\n",
       "      <td>29</td>\n",
       "      <td>two-sided</td>\n",
       "      <td>0.006838</td>\n",
       "      <td>[-0.03, -0.0]</td>\n",
       "      <td>0.531683</td>\n",
       "      <td>6.222</td>\n",
       "      <td>0.803604</td>\n",
       "    </tr>\n",
       "  </tbody>\n",
       "</table>\n",
       "</div>"
      ],
      "text/plain": [
       "                             T  dof alternative     p-val          CI95%  \\\n",
       "Contrast roi                                                               \n",
       "Category LPRC T-test  0.749883   29   two-sided  0.459366    [-0.0, 0.0]   \n",
       "         RIFG T-test -1.881758   29   two-sided  0.069941    [-0.0, 0.0]   \n",
       "         RPHC T-test  2.820018   29   two-sided  0.008571    [0.0, 0.01]   \n",
       "         pHPC T-test  2.184827   29   two-sided  0.037130    [0.0, 0.01]   \n",
       "Item     LPRC T-test  3.163217   29   two-sided  0.003645   [0.01, 0.03]   \n",
       "         RIFG T-test  3.377981   29   two-sided  0.002097    [0.0, 0.02]   \n",
       "         RPHC T-test  4.126298   29   two-sided  0.000284   [0.01, 0.02]   \n",
       "         pHPC T-test -2.912150   29   two-sided  0.006838  [-0.03, -0.0]   \n",
       "\n",
       "                       cohen-d     BF10     power  \n",
       "Contrast roi                                       \n",
       "Category LPRC T-test  0.136909    0.252  0.112102  \n",
       "         RIFG T-test  0.343560    0.919  0.444175  \n",
       "         RPHC T-test  0.514862    5.133  0.778048  \n",
       "         pHPC T-test  0.398893    1.519  0.560506  \n",
       "Item     LPRC T-test  0.577522    10.69  0.863663  \n",
       "         RIFG T-test  0.616732   17.286  0.903919  \n",
       "         RPHC T-test  0.753356  101.618  0.978628  \n",
       "         pHPC T-test  0.531683    6.222  0.803604  "
      ]
     },
     "execution_count": 5,
     "metadata": {},
     "output_type": "execute_result"
    }
   ],
   "source": [
    "react.groupby(['Contrast', 'roi'])['Reactivation'].apply(pg.ttest, 0)"
   ]
  },
  {
   "cell_type": "code",
   "execution_count": 6,
   "id": "ddba5c9f-5249-477b-a6ce-7a791fea0b9c",
   "metadata": {},
   "outputs": [
    {
     "data": {
      "text/html": [
       "<div>\n",
       "<style scoped>\n",
       "    .dataframe tbody tr th:only-of-type {\n",
       "        vertical-align: middle;\n",
       "    }\n",
       "\n",
       "    .dataframe tbody tr th {\n",
       "        vertical-align: top;\n",
       "    }\n",
       "\n",
       "    .dataframe thead th {\n",
       "        text-align: right;\n",
       "    }\n",
       "</style>\n",
       "<table border=\"1\" class=\"dataframe\">\n",
       "  <thead>\n",
       "    <tr style=\"text-align: right;\">\n",
       "      <th></th>\n",
       "      <th></th>\n",
       "      <th>mean</th>\n",
       "      <th>sem</th>\n",
       "    </tr>\n",
       "    <tr>\n",
       "      <th>Contrast</th>\n",
       "      <th>roi</th>\n",
       "      <th></th>\n",
       "      <th></th>\n",
       "    </tr>\n",
       "  </thead>\n",
       "  <tbody>\n",
       "    <tr>\n",
       "      <th rowspan=\"4\" valign=\"top\">Category</th>\n",
       "      <th>LPRC</th>\n",
       "      <td>0.000835</td>\n",
       "      <td>0.001114</td>\n",
       "    </tr>\n",
       "    <tr>\n",
       "      <th>RIFG</th>\n",
       "      <td>-0.001127</td>\n",
       "      <td>0.000599</td>\n",
       "    </tr>\n",
       "    <tr>\n",
       "      <th>RPHC</th>\n",
       "      <td>0.008181</td>\n",
       "      <td>0.002901</td>\n",
       "    </tr>\n",
       "    <tr>\n",
       "      <th>pHPC</th>\n",
       "      <td>0.003422</td>\n",
       "      <td>0.001566</td>\n",
       "    </tr>\n",
       "    <tr>\n",
       "      <th rowspan=\"4\" valign=\"top\">Item</th>\n",
       "      <th>LPRC</th>\n",
       "      <td>0.015611</td>\n",
       "      <td>0.004935</td>\n",
       "    </tr>\n",
       "    <tr>\n",
       "      <th>RIFG</th>\n",
       "      <td>0.010759</td>\n",
       "      <td>0.003185</td>\n",
       "    </tr>\n",
       "    <tr>\n",
       "      <th>RPHC</th>\n",
       "      <td>0.013535</td>\n",
       "      <td>0.003280</td>\n",
       "    </tr>\n",
       "    <tr>\n",
       "      <th>pHPC</th>\n",
       "      <td>-0.016448</td>\n",
       "      <td>0.005648</td>\n",
       "    </tr>\n",
       "  </tbody>\n",
       "</table>\n",
       "</div>"
      ],
      "text/plain": [
       "                   mean       sem\n",
       "Contrast roi                     \n",
       "Category LPRC  0.000835  0.001114\n",
       "         RIFG -0.001127  0.000599\n",
       "         RPHC  0.008181  0.002901\n",
       "         pHPC  0.003422  0.001566\n",
       "Item     LPRC  0.015611  0.004935\n",
       "         RIFG  0.010759  0.003185\n",
       "         RPHC  0.013535  0.003280\n",
       "         pHPC -0.016448  0.005648"
      ]
     },
     "execution_count": 6,
     "metadata": {},
     "output_type": "execute_result"
    }
   ],
   "source": [
    "react.groupby(['Contrast', 'roi'])['Reactivation'].agg(['mean', 'sem'])"
   ]
  },
  {
   "cell_type": "markdown",
   "id": "d1fcb703-c83d-474a-9b42-8c4a238357b3",
   "metadata": {},
   "source": [
    "## Plot reactivation/suppression by ROI"
   ]
  },
  {
   "cell_type": "code",
   "execution_count": 7,
   "id": "1de88eb2-2c85-48ef-b506-0f1ce8db827f",
   "metadata": {},
   "outputs": [
    {
     "name": "stderr",
     "output_type": "stream",
     "text": [
      "LINO NOT subset; don't know how to subset; dropped\n"
     ]
    },
    {
     "data": {
      "image/png": "[encoded data removed]",
      "text/plain": [
       "<Figure size 288x216 with 1 Axes>"
      ]
     },
     "metadata": {
      "needs_background": "light"
     },
     "output_type": "display_data"
    }
   ],
   "source": [
    "fig, ax = plt.subplots(figsize=(4, 3))\n",
    "\n",
    "# plot bars and points with significance markers\n",
    "sig_ind = [0, 1, 2, 4, 6, 7]\n",
    "statplot.plot_swarm_bar(\n",
    "    data=react, \n",
    "    x='roi', \n",
    "    y='Reactivation', \n",
    "    hue='Contrast', \n",
    "    dodge=True,\n",
    "    point_kind='strip',\n",
    "    sig_ind=sig_ind,\n",
    "    bar_kws=dict(capsize=.25),\n",
    "    ax=ax,\n",
    ")\n",
    "\n",
    "# plot line at zero\n",
    "xlim = ax.get_xlim()\n",
    "ax.hlines(0, *xlim, colors=['k']);\n",
    "ax.set(xlim=xlim, ylim=(-0.1, 0.1), ylabel='Similarity difference')\n",
    "\n",
    "# add annotation to help with interpretation\n",
    "prop = dict(\n",
    "    rotation='vertical', \n",
    "    xycoords='axes fraction',\n",
    "    horizontalalignment='center',\n",
    "    fontsize='large',\n",
    ")\n",
    "xoffset = -0.275\n",
    "yoffset = 0.1\n",
    "ax.annotate(\n",
    "    'Reactivation', \n",
    "    xy=(xoffset, 1), \n",
    "    verticalalignment='top',\n",
    "    **prop,\n",
    ")\n",
    "ax.annotate(\n",
    "    'Suppression', \n",
    "    xy=(xoffset, 0), \n",
    "    verticalalignment='bottom',\n",
    "    **prop,\n",
    ")\n",
    "ax.annotate(\n",
    "    '', \n",
    "    xy=(xoffset, 0.5 - yoffset), \n",
    "    xytext=(xoffset, 0.5 + yoffset), \n",
    "    arrowprops=dict(arrowstyle=\"<|-|>\", facecolor='k'),\n",
    "    xycoords='axes fraction',\n",
    ")\n",
    "fig.savefig(fig_dir / 'cluster_react_stats.pdf')"
   ]
  },
  {
   "cell_type": "markdown",
   "id": "8a9bd9aa-6c56-4a8a-a6ab-5d73bbf1ec88",
   "metadata": {},
   "source": [
    "## Correlation between item reactivation and suppression"
   ]
  },
  {
   "cell_type": "code",
   "execution_count": 8,
   "id": "87bea1c9-e633-4cd7-bf13-d2af27d31fe0",
   "metadata": {
    "pycharm": {
     "name": "#%%\n"
    }
   },
   "outputs": [
    {
     "data": {
      "text/html": [
       "<svg  width=\"110\" height=\"55\"><rect x=\"0\" y=\"0\" width=\"55\" height=\"55\" style=\"fill:#ff4790;stroke-width:2;stroke:rgb(255,255,255)\"/><rect x=\"55\" y=\"0\" width=\"55\" height=\"55\" style=\"fill:#666666;stroke-width:2;stroke:rgb(255,255,255)\"/></svg>"
      ],
      "text/plain": [
       "[(1.0, 0.2784, 0.5647), (0.4, 0.4, 0.4)]"
      ]
     },
     "execution_count": 8,
     "metadata": {},
     "output_type": "execute_result"
    }
   ],
   "source": [
    "dark = sns.color_palette(\n",
    "    [\n",
    "        (1.0000, 0.2784, 0.5647),\n",
    "        (0.4000, 0.4000, 0.4000),\n",
    "    ]\n",
    ")\n",
    "\n",
    "dark"
   ]
  },
  {
   "cell_type": "code",
   "execution_count": 9,
   "id": "3a34c0a5-7efd-4720-bc19-b3102e8daa8d",
   "metadata": {
    "pycharm": {
     "name": "#%%\n"
    }
   },
   "outputs": [
    {
     "data": {
      "text/html": [
       "<svg  width=\"110\" height=\"55\"><rect x=\"0\" y=\"0\" width=\"55\" height=\"55\" style=\"fill:#ff98d3;stroke-width:2;stroke:rgb(255,255,255)\"/><rect x=\"55\" y=\"0\" width=\"55\" height=\"55\" style=\"fill:#cccccc;stroke-width:2;stroke:rgb(255,255,255)\"/></svg>"
      ],
      "text/plain": [
       "[(1.0, 0.5961, 0.8275), (0.8, 0.8, 0.8)]"
      ]
     },
     "execution_count": 9,
     "metadata": {},
     "output_type": "execute_result"
    }
   ],
   "source": [
    "light = sns.color_palette(\n",
    "    [\n",
    "        (1.0000, 0.5961, 0.8275),\n",
    "        (0.8000, 0.8000, 0.8000),\n",
    "    ]\n",
    ")\n",
    "light"
   ]
  },
  {
   "cell_type": "code",
   "execution_count": 10,
   "id": "a8b30c81-5290-415d-bc1c-c26dedecdef2",
   "metadata": {},
   "outputs": [],
   "source": [
    "# use robust regression to estimate coupling\n",
    "anchor_roi = 'pHPC'\n",
    "comparison_rois = ['RPHC', 'LPRC', 'RIFG']\n",
    "corr = pd.concat(\n",
    "    [\n",
    "        rsa.item_roi_correlation(subjects, comparison_roi, anchor_roi, roi_rdms, dfs)\n",
    "        for comparison_roi in comparison_rois\n",
    "    ], ignore_index=True\n",
    ")"
   ]
  },
  {
   "cell_type": "code",
   "execution_count": 11,
   "id": "21b1bb12-dd29-4960-8648-a3bbff4e95f8",
   "metadata": {},
   "outputs": [],
   "source": [
    "# average over category, excluding if either undefined\n",
    "corr_mean = corr.groupby(['correct', 'roi1', 'roi2', 'subject'])['slope'].apply(\n",
    "    lambda x: x.mean() if x.notna().all() else np.nan\n",
    ")"
   ]
  },
  {
   "cell_type": "code",
   "execution_count": 12,
   "id": "c7ced77b-cb27-4d35-9c78-214e25ed2933",
   "metadata": {},
   "outputs": [
    {
     "data": {
      "text/html": [
       "<div>\n",
       "<style scoped>\n",
       "    .dataframe tbody tr th:only-of-type {\n",
       "        vertical-align: middle;\n",
       "    }\n",
       "\n",
       "    .dataframe tbody tr th {\n",
       "        vertical-align: top;\n",
       "    }\n",
       "\n",
       "    .dataframe thead th {\n",
       "        text-align: right;\n",
       "    }\n",
       "</style>\n",
       "<table border=\"1\" class=\"dataframe\">\n",
       "  <thead>\n",
       "    <tr style=\"text-align: right;\">\n",
       "      <th></th>\n",
       "      <th>mean</th>\n",
       "      <th>sem</th>\n",
       "    </tr>\n",
       "    <tr>\n",
       "      <th>roi1</th>\n",
       "      <th></th>\n",
       "      <th></th>\n",
       "    </tr>\n",
       "  </thead>\n",
       "  <tbody>\n",
       "    <tr>\n",
       "      <th>LPRC</th>\n",
       "      <td>-0.158395</td>\n",
       "      <td>0.045954</td>\n",
       "    </tr>\n",
       "    <tr>\n",
       "      <th>RIFG</th>\n",
       "      <td>-0.104053</td>\n",
       "      <td>0.077719</td>\n",
       "    </tr>\n",
       "    <tr>\n",
       "      <th>RPHC</th>\n",
       "      <td>-0.133539</td>\n",
       "      <td>0.053815</td>\n",
       "    </tr>\n",
       "  </tbody>\n",
       "</table>\n",
       "</div>"
      ],
      "text/plain": [
       "          mean       sem\n",
       "roi1                    \n",
       "LPRC -0.158395  0.045954\n",
       "RIFG -0.104053  0.077719\n",
       "RPHC -0.133539  0.053815"
      ]
     },
     "execution_count": 12,
     "metadata": {},
     "output_type": "execute_result"
    }
   ],
   "source": [
    "sme = corr_mean.loc[1] - corr_mean.loc[0]\n",
    "sme.groupby('roi1').agg(['mean', 'sem'])"
   ]
  },
  {
   "cell_type": "code",
   "execution_count": 13,
   "id": "d0091181-618e-4372-80b2-983ee2e9f7d6",
   "metadata": {},
   "outputs": [
    {
     "data": {
      "text/html": [
       "<div>\n",
       "<style scoped>\n",
       "    .dataframe tbody tr th:only-of-type {\n",
       "        vertical-align: middle;\n",
       "    }\n",
       "\n",
       "    .dataframe tbody tr th {\n",
       "        vertical-align: top;\n",
       "    }\n",
       "\n",
       "    .dataframe thead th {\n",
       "        text-align: right;\n",
       "    }\n",
       "</style>\n",
       "<table border=\"1\" class=\"dataframe\">\n",
       "  <thead>\n",
       "    <tr style=\"text-align: right;\">\n",
       "      <th></th>\n",
       "      <th></th>\n",
       "      <th>T</th>\n",
       "      <th>dof</th>\n",
       "      <th>alternative</th>\n",
       "      <th>p-val</th>\n",
       "      <th>CI95%</th>\n",
       "      <th>cohen-d</th>\n",
       "      <th>BF10</th>\n",
       "      <th>power</th>\n",
       "    </tr>\n",
       "    <tr>\n",
       "      <th>roi1</th>\n",
       "      <th></th>\n",
       "      <th></th>\n",
       "      <th></th>\n",
       "      <th></th>\n",
       "      <th></th>\n",
       "      <th></th>\n",
       "      <th></th>\n",
       "      <th></th>\n",
       "      <th></th>\n",
       "    </tr>\n",
       "  </thead>\n",
       "  <tbody>\n",
       "    <tr>\n",
       "      <th>LPRC</th>\n",
       "      <th>T-test</th>\n",
       "      <td>-3.446857</td>\n",
       "      <td>19</td>\n",
       "      <td>two-sided</td>\n",
       "      <td>0.002702</td>\n",
       "      <td>[-0.25, -0.06]</td>\n",
       "      <td>0.770741</td>\n",
       "      <td>15.497</td>\n",
       "      <td>0.904582</td>\n",
       "    </tr>\n",
       "    <tr>\n",
       "      <th>RIFG</th>\n",
       "      <th>T-test</th>\n",
       "      <td>-1.338830</td>\n",
       "      <td>19</td>\n",
       "      <td>two-sided</td>\n",
       "      <td>0.196425</td>\n",
       "      <td>[-0.27, 0.06]</td>\n",
       "      <td>0.299372</td>\n",
       "      <td>0.505</td>\n",
       "      <td>0.246255</td>\n",
       "    </tr>\n",
       "    <tr>\n",
       "      <th>RPHC</th>\n",
       "      <th>T-test</th>\n",
       "      <td>-2.481443</td>\n",
       "      <td>19</td>\n",
       "      <td>two-sided</td>\n",
       "      <td>0.022607</td>\n",
       "      <td>[-0.25, -0.02]</td>\n",
       "      <td>0.554867</td>\n",
       "      <td>2.618</td>\n",
       "      <td>0.653489</td>\n",
       "    </tr>\n",
       "  </tbody>\n",
       "</table>\n",
       "</div>"
      ],
      "text/plain": [
       "                    T  dof alternative     p-val           CI95%   cohen-d  \\\n",
       "roi1                                                                         \n",
       "LPRC T-test -3.446857   19   two-sided  0.002702  [-0.25, -0.06]  0.770741   \n",
       "RIFG T-test -1.338830   19   two-sided  0.196425   [-0.27, 0.06]  0.299372   \n",
       "RPHC T-test -2.481443   19   two-sided  0.022607  [-0.25, -0.02]  0.554867   \n",
       "\n",
       "               BF10     power  \n",
       "roi1                           \n",
       "LPRC T-test  15.497  0.904582  \n",
       "RIFG T-test   0.505  0.246255  \n",
       "RPHC T-test   2.618  0.653489  "
      ]
     },
     "execution_count": 13,
     "metadata": {},
     "output_type": "execute_result"
    }
   ],
   "source": [
    "ttest = sme.groupby('roi1').apply(pg.ttest, 0)\n",
    "ttest"
   ]
  },
  {
   "cell_type": "code",
   "execution_count": 14,
   "id": "378ab3bf-8c8b-4fb8-b52a-2f9aed6ddff3",
   "metadata": {},
   "outputs": [
    {
     "data": {
      "text/plain": [
       "(array([ True, False,  True]), array([0.0081063 , 0.1964255 , 0.03391004]))"
      ]
     },
     "execution_count": 14,
     "metadata": {},
     "output_type": "execute_result"
    }
   ],
   "source": [
    "pg.multicomp(ttest['p-val'].to_numpy(), method='fdr_bh')"
   ]
  },
  {
   "cell_type": "code",
   "execution_count": 15,
   "id": "7267e3f6-305b-473c-9637-64d0607c691d",
   "metadata": {},
   "outputs": [
    {
     "name": "stderr",
     "output_type": "stream",
     "text": [
      "LINO NOT subset; don't know how to subset; dropped\n"
     ]
    },
    {
     "data": {
      "image/png": "[encoded data removed]",
      "text/plain": [
       "<Figure size 216x216 with 1 Axes>"
      ]
     },
     "metadata": {
      "needs_background": "light"
     },
     "output_type": "display_data"
    }
   ],
   "source": [
    "m = corr_mean.reset_index()\n",
    "m['Inference'] = m['correct'].map({0: 'Incorrect', 1: 'Correct'})\n",
    "\n",
    "fig, ax = plt.subplots(figsize=(3, 3))\n",
    "ax = statplot.plot_swarm_bar(\n",
    "    data=m, \n",
    "    x='roi1', \n",
    "    y='slope', \n",
    "    hue='Inference',\n",
    "    order=['RPHC', 'LPRC', 'RIFG'], \n",
    "    hue_order=['Correct', 'Incorrect'],\n",
    "    dodge=True,\n",
    "    sig_diff_ind=[[0, 1], [2, 3]],\n",
    "    bar_kws=dict(capsize=.25),\n",
    "    light=light,\n",
    "    dark=dark,\n",
    "    ax=ax,\n",
    ")\n",
    "\n",
    "# plot line at zero\n",
    "xlim = ax.get_xlim()\n",
    "ax.hlines(0, *xlim, colors=['k']);\n",
    "ax.set(xlim=xlim, ylim=(-1, 1), ylabel='Coupling with pHPC');\n",
    "fig.savefig(fig_dir / 'cluster_react_coupling.pdf')"
   ]
  },
  {
   "cell_type": "code",
   "execution_count": 16,
   "id": "f84e19d2-444a-4123-aee9-4f7c6cc6e614",
   "metadata": {},
   "outputs": [
    {
     "name": "stdout",
     "output_type": "stream",
     "text": [
      "Python implementation: CPython\n",
      "Python version       : 3.9.7\n",
      "IPython version      : 8.3.0\n",
      "\n",
      "mindstorm   : 0.9.0\n",
      "matplotlib  : 3.5.1\n",
      "seaborn     : 0.11.2\n",
      "bender_study: 0.1.0\n",
      "pingouin    : 0.5.2\n",
      "pandas      : 1.4.3\n",
      "numpy       : 1.22.3\n",
      "\n"
     ]
    }
   ],
   "source": [
    "%load_ext watermark\n",
    "%watermark -v -iv"
   ]
  }
 ],
 "metadata": {
  "kernelspec": {
   "display_name": "bender_study",
   "language": "python",
   "name": "bender_study"
  },
  "language_info": {
   "codemirror_mode": {
    "name": "ipython",
    "version": 3
   },
   "file_extension": ".py",
   "mimetype": "text/x-python",
   "name": "python",
   "nbconvert_exporter": "python",
   "pygments_lexer": "ipython3",
   "version": "3.9.7"
  },
  "toc-autonumbering": false
 },
 "nbformat": 4,
 "nbformat_minor": 5
}
