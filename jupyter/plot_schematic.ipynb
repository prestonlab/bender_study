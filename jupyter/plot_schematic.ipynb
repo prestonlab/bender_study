{
 "cells": [
  {
   "cell_type": "markdown",
   "id": "877342dd-f313-43fa-83c9-2a3c55698a8a",
   "metadata": {},
   "source": [
    "# Plot patterns for schematic"
   ]
  },
  {
   "cell_type": "code",
   "execution_count": 1,
   "id": "874827c1-9b4c-4aba-8cc8-5c644ef34ef7",
   "metadata": {},
   "outputs": [],
   "source": [
    "import os\n",
    "from pathlib import Path\n",
    "import numpy as np\n",
    "import scipy.spatial.distance as sd\n",
    "from sklearn.decomposition import FastICA\n",
    "from scipy import stats\n",
    "import pandas as pd\n",
    "import matplotlib.pyplot as plt\n",
    "from mindstorm import dsmplot\n",
    "from bender_study import rsa\n",
    "\n",
    "res_dir = Path(os.environ['BENDER_RESULTS'])\n",
    "fig_dir = Path(os.environ['BENDER_FIGURES']) / 'schematic'\n",
    "\n",
    "model_file = res_dir / 'batch' / 'semantics' / 'wiki_w2v.npz'"
   ]
  },
  {
   "cell_type": "code",
   "execution_count": 2,
   "id": "82e348b2-d8f2-44df-a0ef-03027634ca64",
   "metadata": {},
   "outputs": [
    {
     "data": {
      "text/html": [
       "<div>\n",
       "<style scoped>\n",
       "    .dataframe tbody tr th:only-of-type {\n",
       "        vertical-align: middle;\n",
       "    }\n",
       "\n",
       "    .dataframe tbody tr th {\n",
       "        vertical-align: top;\n",
       "    }\n",
       "\n",
       "    .dataframe thead th {\n",
       "        text-align: right;\n",
       "    }\n",
       "</style>\n",
       "<table border=\"1\" class=\"dataframe\">\n",
       "  <thead>\n",
       "    <tr style=\"text-align: right;\">\n",
       "      <th></th>\n",
       "      <th>A</th>\n",
       "      <th>B</th>\n",
       "      <th>C</th>\n",
       "    </tr>\n",
       "  </thead>\n",
       "  <tbody>\n",
       "    <tr>\n",
       "      <th>1</th>\n",
       "      <td>Julia Roberts</td>\n",
       "      <td>apple</td>\n",
       "      <td>scissors</td>\n",
       "    </tr>\n",
       "    <tr>\n",
       "      <th>2</th>\n",
       "      <td>Barack Obama</td>\n",
       "      <td>umbrella</td>\n",
       "      <td>cup</td>\n",
       "    </tr>\n",
       "    <tr>\n",
       "      <th>3</th>\n",
       "      <td>Yosemite</td>\n",
       "      <td>tea kettle</td>\n",
       "      <td>butterfly</td>\n",
       "    </tr>\n",
       "    <tr>\n",
       "      <th>4</th>\n",
       "      <td>Eiffel Tower</td>\n",
       "      <td>leaf</td>\n",
       "      <td>picnic basket</td>\n",
       "    </tr>\n",
       "  </tbody>\n",
       "</table>\n",
       "</div>"
      ],
      "text/plain": [
       "               A           B              C\n",
       "1  Julia Roberts       apple       scissors\n",
       "2   Barack Obama    umbrella            cup\n",
       "3       Yosemite  tea kettle      butterfly\n",
       "4   Eiffel Tower        leaf  picnic basket"
      ]
     },
     "execution_count": 2,
     "metadata": {},
     "output_type": "execute_result"
    }
   ],
   "source": [
    "groups = pd.DataFrame(\n",
    "    {\n",
    "        'A': ['Julia Roberts', 'Barack Obama', 'Yosemite', 'Eiffel Tower'],\n",
    "        'B': ['apple', 'umbrella', 'tea kettle', 'leaf'],\n",
    "        'C': ['scissors', 'cup', 'butterfly', 'picnic basket'],\n",
    "    }, index=[1, 2, 3, 4]\n",
    ")\n",
    "groups"
   ]
  },
  {
   "cell_type": "code",
   "execution_count": 3,
   "id": "0b2b5f54-b2da-4f07-88a0-028df79b1b6c",
   "metadata": {},
   "outputs": [],
   "source": [
    "rng = np.random.default_rng(42)"
   ]
  },
  {
   "cell_type": "markdown",
   "id": "8072dda9-8df0-48e6-8a70-9ec03a1ad859",
   "metadata": {},
   "source": [
    "## Pre-exposure and study patterns"
   ]
  },
  {
   "cell_type": "code",
   "execution_count": 4,
   "id": "11b08c14-ba89-4028-a251-5b0ac6da7fcf",
   "metadata": {},
   "outputs": [],
   "source": [
    "model = np.load(model_file)\n",
    "ica = FastICA(n_components=25, random_state=42)\n",
    "simple = {\n",
    "    'items': model['items'].copy(),\n",
    "    'vectors': np.clip(stats.zscore(ica.fit_transform(model['vectors']), axis=0), -1, 1),\n",
    "}"
   ]
  },
  {
   "cell_type": "code",
   "execution_count": 5,
   "id": "47a646e1-b7df-44f5-b341-b42c224e90a2",
   "metadata": {},
   "outputs": [
    {
     "data": {
      "image/png": "[encoded data removed]",
      "text/plain": [
       "<Figure size 432x288 with 1 Axes>"
      ]
     },
     "metadata": {
      "needs_background": "light"
     },
     "output_type": "display_data"
    }
   ],
   "source": [
    "dsmplot.plot_pattern(\n",
    "    rsa.get_item_vectors(groups.at[1, 'A'], simple).reshape(5, 5)\n",
    ");\n",
    "plt.savefig(fig_dir / 'item_pattern1.png')"
   ]
  },
  {
   "cell_type": "code",
   "execution_count": 6,
   "id": "f3e7be63-288a-4644-a24e-dae688b0e8c5",
   "metadata": {},
   "outputs": [
    {
     "data": {
      "image/png": "[encoded data removed]",
      "text/plain": [
       "<Figure size 432x288 with 1 Axes>"
      ]
     },
     "metadata": {
      "needs_background": "light"
     },
     "output_type": "display_data"
    }
   ],
   "source": [
    "dsmplot.plot_pattern(\n",
    "    rsa.get_item_vectors(groups.at[2, 'A'], simple).reshape(5, 5)\n",
    ");\n",
    "plt.savefig(fig_dir / 'item_pattern2.png')"
   ]
  },
  {
   "cell_type": "code",
   "execution_count": 7,
   "id": "893e3b53-06b4-4aec-a0d9-3c4b83d83108",
   "metadata": {},
   "outputs": [
    {
     "data": {
      "image/png": "[encoded data removed]",
      "text/plain": [
       "<Figure size 432x288 with 1 Axes>"
      ]
     },
     "metadata": {
      "needs_background": "light"
     },
     "output_type": "display_data"
    }
   ],
   "source": [
    "dsmplot.plot_pattern(\n",
    "    rsa.get_item_vectors(['Jennifer Aniston'], simple).reshape(5, 5)\n",
    ");\n",
    "plt.savefig(fig_dir / 'item_pattern3.png')"
   ]
  },
  {
   "cell_type": "code",
   "execution_count": 8,
   "id": "9c3f804d-09f7-4dee-b513-1489b429d16f",
   "metadata": {},
   "outputs": [
    {
     "data": {
      "image/png": "[encoded data removed]",
      "text/plain": [
       "<Figure size 432x288 with 1 Axes>"
      ]
     },
     "metadata": {
      "needs_background": "light"
     },
     "output_type": "display_data"
    }
   ],
   "source": [
    "dsmplot.plot_pattern(\n",
    "    np.sum(\n",
    "        rsa.get_item_vectors(groups.loc[1].to_list(), simple), 0\n",
    "    ).reshape(5, 5)\n",
    ")\n",
    "plt.savefig(fig_dir / 'encoding_pattern1.png')"
   ]
  },
  {
   "cell_type": "code",
   "execution_count": 9,
   "id": "453649a7-9374-4e84-a3ba-46938a64ce8e",
   "metadata": {},
   "outputs": [
    {
     "data": {
      "image/png": "[encoded data removed]",
      "text/plain": [
       "<Figure size 432x288 with 1 Axes>"
      ]
     },
     "metadata": {
      "needs_background": "light"
     },
     "output_type": "display_data"
    }
   ],
   "source": [
    "dsmplot.plot_pattern(\n",
    "    np.sum(\n",
    "        rsa.get_item_vectors(groups.loc[3].to_list(), simple), 0\n",
    "    ).reshape(5, 5)\n",
    ")\n",
    "plt.savefig(fig_dir / 'encoding_pattern2.png')"
   ]
  },
  {
   "cell_type": "markdown",
   "id": "b6e8165e-4d02-478b-aca6-ad602f0d709e",
   "metadata": {},
   "source": [
    "## Study representational dissimilarity matrices"
   ]
  },
  {
   "cell_type": "code",
   "execution_count": 10,
   "id": "2b8990ae-f10e-43a9-9deb-d9fa21421020",
   "metadata": {},
   "outputs": [
    {
     "data": {
      "image/png": "[encoded data removed]",
      "text/plain": [
       "<Figure size 432x288 with 1 Axes>"
      ]
     },
     "metadata": {
      "needs_background": "light"
     },
     "output_type": "display_data"
    }
   ],
   "source": [
    "encoding_patterns = np.array(\n",
    "    [\n",
    "        np.sum(\n",
    "            rsa.get_item_vectors(groups.loc[i].to_list(), model), 0\n",
    "        ) for i in range(1, 5)\n",
    "    ]\n",
    ")\n",
    "encoding_patterns += rng.normal(size=encoding_patterns.shape)\n",
    "fig, ax = plt.subplots()\n",
    "ax.matshow(sd.squareform(sd.pdist(encoding_patterns, 'correlation')))\n",
    "ax.set_axis_off()\n",
    "fig.savefig(fig_dir / 'rdm_neural.png', pad_inches=0)"
   ]
  },
  {
   "cell_type": "code",
   "execution_count": 11,
   "id": "2028565a-ffb2-4506-bc6e-163ffbdb83ca",
   "metadata": {},
   "outputs": [
    {
     "data": {
      "image/png": "[encoded data removed]",
      "text/plain": [
       "<Figure size 432x288 with 1 Axes>"
      ]
     },
     "metadata": {
      "needs_background": "light"
     },
     "output_type": "display_data"
    }
   ],
   "source": [
    "a_vectors = rsa.get_item_vectors(groups['A'].to_list(), model)\n",
    "fig, ax = plt.subplots()\n",
    "ax.matshow(sd.squareform(sd.pdist(a_vectors, 'correlation')))\n",
    "ax.set_axis_off()\n",
    "fig.savefig(fig_dir / 'rdm_a.png', pad_inches=0)"
   ]
  },
  {
   "cell_type": "code",
   "execution_count": 12,
   "id": "5fb74b9d-7877-4d32-ac05-9aed9ee4e146",
   "metadata": {},
   "outputs": [
    {
     "data": {
      "image/png": "[encoded data removed]",
      "text/plain": [
       "<Figure size 432x288 with 1 Axes>"
      ]
     },
     "metadata": {
      "needs_background": "light"
     },
     "output_type": "display_data"
    }
   ],
   "source": [
    "c_vectors = rsa.get_item_vectors(groups['C'].to_list(), model)\n",
    "fig, ax = plt.subplots()\n",
    "ax.matshow(sd.squareform(sd.pdist(a_vectors + c_vectors, 'correlation')))\n",
    "ax.set_axis_off()\n",
    "fig.savefig(fig_dir / 'rdm_ac.png', pad_inches=0)"
   ]
  },
  {
   "cell_type": "code",
   "execution_count": 13,
   "id": "bcdf8601-6963-472d-908a-1b855d00fa2c",
   "metadata": {},
   "outputs": [
    {
     "data": {
      "image/png": "[encoded data removed]",
      "text/plain": [
       "<Figure size 720x72 with 1 Axes>"
      ]
     },
     "metadata": {
      "needs_background": "light"
     },
     "output_type": "display_data"
    }
   ],
   "source": [
    "a = np.tile(np.arange(1024), (80, 1))\n",
    "fig, ax = plt.subplots(figsize=(10, 1))\n",
    "ax.matshow(a)\n",
    "ax.set_axis_off()\n",
    "fig.savefig(fig_dir / 'colorbar.png', pad_inches=0)"
   ]
  },
  {
   "cell_type": "code",
   "execution_count": 14,
   "id": "a6f19040-4234-4125-b2b9-d152bdb8e3d8",
   "metadata": {},
   "outputs": [
    {
     "name": "stdout",
     "output_type": "stream",
     "text": [
      "Python implementation: CPython\n",
      "Python version       : 3.9.7\n",
      "IPython version      : 8.3.0\n",
      "\n",
      "matplotlib  : 3.5.1\n",
      "numpy       : 1.22.3\n",
      "mindstorm   : 0.9.0\n",
      "pandas      : 1.4.3\n",
      "scipy       : 1.8.0\n",
      "bender_study: 0.1.0\n",
      "\n"
     ]
    }
   ],
   "source": [
    "%load_ext watermark\n",
    "%watermark -v -iv"
   ]
  }
 ],
 "metadata": {
  "kernelspec": {
   "display_name": "bender_study",
   "language": "python",
   "name": "bender_study"
  },
  "language_info": {
   "codemirror_mode": {
    "name": "ipython",
    "version": 3
   },
   "file_extension": ".py",
   "mimetype": "text/x-python",
   "name": "python",
   "nbconvert_exporter": "python",
   "pygments_lexer": "ipython3",
   "version": "3.9.7"
  }
 },
 "nbformat": 4,
 "nbformat_minor": 5
}
