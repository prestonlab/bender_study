{
 "cells": [
  {
   "cell_type": "markdown",
   "id": "9a766c1b-0e23-4c13-a1a4-c5c339f28279",
   "metadata": {},
   "source": [
    "# Item reactivation subsequent memory effects"
   ]
  },
  {
   "cell_type": "code",
   "execution_count": 1,
   "id": "d3433f76-b966-4ac4-8f0e-0da57fd93afc",
   "metadata": {},
   "outputs": [],
   "source": [
    "import os\n",
    "from pathlib import Path\n",
    "import numpy as np\n",
    "import matplotlib.pyplot as plt\n",
    "import pandas as pd\n",
    "import seaborn as sns\n",
    "import pingouin as pg\n",
    "from mindstorm import statplot\n",
    "from bender_study import task\n",
    "from bender_study import rsa\n",
    "\n",
    "bids_dir = Path(os.environ['BENDER_BIDS'])\n",
    "res_dir = Path(os.environ['BENDER_RESULTS'])\n",
    "fig_dir = Path(os.environ['BENDER_FIGURES']) / 'plots'\n",
    "\n",
    "react_dir = res_dir / 'batch' / 'glm' / 'study_stim2' / 'react'"
   ]
  },
  {
   "cell_type": "code",
   "execution_count": 2,
   "id": "ef95e26c-0d6a-4a44-98de-6ddd9d4cb363",
   "metadata": {},
   "outputs": [],
   "source": [
    "# load BC study data with test performance\n",
    "subjects = task.get_subjects('react')\n",
    "dfs = [\n",
    "    (\n",
    "        task.load_merged_study_events(bids_dir, s)\n",
    "        .sort_values('group')\n",
    "        .query('pair_type == \"BC\"')\n",
    "    ) for s in subjects\n",
    "]"
   ]
  },
  {
   "cell_type": "code",
   "execution_count": 3,
   "id": "0cd10295-f07d-49b9-8745-8f7a0847b7e2",
   "metadata": {},
   "outputs": [],
   "source": [
    "# load the pre-exposure to study representational \n",
    "# dissimilarity matrix for each ROI and subject\n",
    "rois = ['aIFG', 'amPFC']\n",
    "analyses = ['cat_react_item_sme2', 'cat_react_item_sme2']\n",
    "clusters = ['rifg', 'ampfc']\n",
    "suffix = 'dil1c'\n",
    "roi_rdms = rsa.load_roi_rdms(\n",
    "    react_dir, subjects, rois, analyses, clusters, suffix\n",
    ")"
   ]
  },
  {
   "cell_type": "markdown",
   "id": "4b01071a-f830-45c6-8152-abe95a28abc0",
   "metadata": {},
   "source": [
    "## Item reactivation/suppression by AC test accuracy"
   ]
  },
  {
   "cell_type": "code",
   "execution_count": 4,
   "id": "925101a4-e2a7-4873-8708-a13836ff6588",
   "metadata": {},
   "outputs": [],
   "source": [
    "stats = rsa.reactivation_stats_split(subjects, roi_rdms, dfs)\n",
    "\n",
    "m = stats.groupby(['subject', 'roi', 'correct'])['item'].apply(\n",
    "    lambda x: x.mean() if x.notna().all() else np.nan\n",
    ").reset_index()\n",
    "m['Inference'] = m['correct'].map({0: 'Incorrect', 1: 'Correct'})"
   ]
  },
  {
   "cell_type": "code",
   "execution_count": 5,
   "id": "c57cf484-2e4d-4eb3-a66d-79152c0d1e85",
   "metadata": {},
   "outputs": [
    {
     "data": {
      "text/html": [
       "<div>\n",
       "<style scoped>\n",
       "    .dataframe tbody tr th:only-of-type {\n",
       "        vertical-align: middle;\n",
       "    }\n",
       "\n",
       "    .dataframe tbody tr th {\n",
       "        vertical-align: top;\n",
       "    }\n",
       "\n",
       "    .dataframe thead th {\n",
       "        text-align: right;\n",
       "    }\n",
       "</style>\n",
       "<table border=\"1\" class=\"dataframe\">\n",
       "  <thead>\n",
       "    <tr style=\"text-align: right;\">\n",
       "      <th></th>\n",
       "      <th></th>\n",
       "      <th>mean</th>\n",
       "      <th>sem</th>\n",
       "    </tr>\n",
       "    <tr>\n",
       "      <th>roi</th>\n",
       "      <th>Inference</th>\n",
       "      <th></th>\n",
       "      <th></th>\n",
       "    </tr>\n",
       "  </thead>\n",
       "  <tbody>\n",
       "    <tr>\n",
       "      <th rowspan=\"2\" valign=\"top\">aIFG</th>\n",
       "      <th>Correct</th>\n",
       "      <td>0.016782</td>\n",
       "      <td>0.004571</td>\n",
       "    </tr>\n",
       "    <tr>\n",
       "      <th>Incorrect</th>\n",
       "      <td>-0.036558</td>\n",
       "      <td>0.016048</td>\n",
       "    </tr>\n",
       "    <tr>\n",
       "      <th rowspan=\"2\" valign=\"top\">amPFC</th>\n",
       "      <th>Correct</th>\n",
       "      <td>-0.005345</td>\n",
       "      <td>0.005157</td>\n",
       "    </tr>\n",
       "    <tr>\n",
       "      <th>Incorrect</th>\n",
       "      <td>-0.055850</td>\n",
       "      <td>0.020860</td>\n",
       "    </tr>\n",
       "  </tbody>\n",
       "</table>\n",
       "</div>"
      ],
      "text/plain": [
       "                     mean       sem\n",
       "roi   Inference                    \n",
       "aIFG  Correct    0.016782  0.004571\n",
       "      Incorrect -0.036558  0.016048\n",
       "amPFC Correct   -0.005345  0.005157\n",
       "      Incorrect -0.055850  0.020860"
      ]
     },
     "execution_count": 5,
     "metadata": {},
     "output_type": "execute_result"
    }
   ],
   "source": [
    "m.groupby(['roi', 'Inference'])['item'].agg(['mean', 'sem'])"
   ]
  },
  {
   "cell_type": "code",
   "execution_count": 6,
   "id": "aab1cf5a-70ad-4c20-956d-fe198b25d32c",
   "metadata": {},
   "outputs": [
    {
     "data": {
      "text/html": [
       "<div>\n",
       "<style scoped>\n",
       "    .dataframe tbody tr th:only-of-type {\n",
       "        vertical-align: middle;\n",
       "    }\n",
       "\n",
       "    .dataframe tbody tr th {\n",
       "        vertical-align: top;\n",
       "    }\n",
       "\n",
       "    .dataframe thead th {\n",
       "        text-align: right;\n",
       "    }\n",
       "</style>\n",
       "<table border=\"1\" class=\"dataframe\">\n",
       "  <thead>\n",
       "    <tr style=\"text-align: right;\">\n",
       "      <th></th>\n",
       "      <th></th>\n",
       "      <th></th>\n",
       "      <th>T</th>\n",
       "      <th>dof</th>\n",
       "      <th>alternative</th>\n",
       "      <th>p-val</th>\n",
       "      <th>CI95%</th>\n",
       "      <th>cohen-d</th>\n",
       "      <th>BF10</th>\n",
       "      <th>power</th>\n",
       "    </tr>\n",
       "    <tr>\n",
       "      <th>roi</th>\n",
       "      <th>Inference</th>\n",
       "      <th></th>\n",
       "      <th></th>\n",
       "      <th></th>\n",
       "      <th></th>\n",
       "      <th></th>\n",
       "      <th></th>\n",
       "      <th></th>\n",
       "      <th></th>\n",
       "      <th></th>\n",
       "    </tr>\n",
       "  </thead>\n",
       "  <tbody>\n",
       "    <tr>\n",
       "      <th rowspan=\"2\" valign=\"top\">aIFG</th>\n",
       "      <th>Correct</th>\n",
       "      <th>T-test</th>\n",
       "      <td>3.671653</td>\n",
       "      <td>29</td>\n",
       "      <td>two-sided</td>\n",
       "      <td>0.000968</td>\n",
       "      <td>[0.01, 0.03]</td>\n",
       "      <td>0.670349</td>\n",
       "      <td>34.101</td>\n",
       "      <td>0.943812</td>\n",
       "    </tr>\n",
       "    <tr>\n",
       "      <th>Incorrect</th>\n",
       "      <th>T-test</th>\n",
       "      <td>-2.277991</td>\n",
       "      <td>27</td>\n",
       "      <td>two-sided</td>\n",
       "      <td>0.030861</td>\n",
       "      <td>[-0.07, -0.0]</td>\n",
       "      <td>0.430500</td>\n",
       "      <td>1.809</td>\n",
       "      <td>0.593509</td>\n",
       "    </tr>\n",
       "    <tr>\n",
       "      <th rowspan=\"2\" valign=\"top\">amPFC</th>\n",
       "      <th>Correct</th>\n",
       "      <th>T-test</th>\n",
       "      <td>-1.036474</td>\n",
       "      <td>29</td>\n",
       "      <td>two-sided</td>\n",
       "      <td>0.308547</td>\n",
       "      <td>[-0.02, 0.01]</td>\n",
       "      <td>0.189233</td>\n",
       "      <td>0.317</td>\n",
       "      <td>0.170671</td>\n",
       "    </tr>\n",
       "    <tr>\n",
       "      <th>Incorrect</th>\n",
       "      <th>T-test</th>\n",
       "      <td>-2.677401</td>\n",
       "      <td>27</td>\n",
       "      <td>two-sided</td>\n",
       "      <td>0.012467</td>\n",
       "      <td>[-0.1, -0.01]</td>\n",
       "      <td>0.505981</td>\n",
       "      <td>3.827</td>\n",
       "      <td>0.732775</td>\n",
       "    </tr>\n",
       "  </tbody>\n",
       "</table>\n",
       "</div>"
      ],
      "text/plain": [
       "                               T  dof alternative     p-val          CI95%  \\\n",
       "roi   Inference                                                              \n",
       "aIFG  Correct   T-test  3.671653   29   two-sided  0.000968   [0.01, 0.03]   \n",
       "      Incorrect T-test -2.277991   27   two-sided  0.030861  [-0.07, -0.0]   \n",
       "amPFC Correct   T-test -1.036474   29   two-sided  0.308547  [-0.02, 0.01]   \n",
       "      Incorrect T-test -2.677401   27   two-sided  0.012467  [-0.1, -0.01]   \n",
       "\n",
       "                         cohen-d    BF10     power  \n",
       "roi   Inference                                     \n",
       "aIFG  Correct   T-test  0.670349  34.101  0.943812  \n",
       "      Incorrect T-test  0.430500   1.809  0.593509  \n",
       "amPFC Correct   T-test  0.189233   0.317  0.170671  \n",
       "      Incorrect T-test  0.505981   3.827  0.732775  "
      ]
     },
     "execution_count": 6,
     "metadata": {},
     "output_type": "execute_result"
    }
   ],
   "source": [
    "m.groupby(['roi', 'Inference'])['item'].apply(pg.ttest, 0)"
   ]
  },
  {
   "cell_type": "code",
   "execution_count": 7,
   "id": "d76e2075-c54a-4c94-b92a-0d1a07bd580d",
   "metadata": {},
   "outputs": [
    {
     "data": {
      "text/html": [
       "<div>\n",
       "<style scoped>\n",
       "    .dataframe tbody tr th:only-of-type {\n",
       "        vertical-align: middle;\n",
       "    }\n",
       "\n",
       "    .dataframe tbody tr th {\n",
       "        vertical-align: top;\n",
       "    }\n",
       "\n",
       "    .dataframe thead th {\n",
       "        text-align: right;\n",
       "    }\n",
       "</style>\n",
       "<table border=\"1\" class=\"dataframe\">\n",
       "  <thead>\n",
       "    <tr style=\"text-align: right;\">\n",
       "      <th></th>\n",
       "      <th></th>\n",
       "      <th></th>\n",
       "      <th>W-val</th>\n",
       "      <th>alternative</th>\n",
       "      <th>p-val</th>\n",
       "      <th>RBC</th>\n",
       "      <th>CLES</th>\n",
       "    </tr>\n",
       "    <tr>\n",
       "      <th>roi</th>\n",
       "      <th>Inference</th>\n",
       "      <th></th>\n",
       "      <th></th>\n",
       "      <th></th>\n",
       "      <th></th>\n",
       "      <th></th>\n",
       "      <th></th>\n",
       "    </tr>\n",
       "  </thead>\n",
       "  <tbody>\n",
       "    <tr>\n",
       "      <th rowspan=\"2\" valign=\"top\">aIFG</th>\n",
       "      <th>Correct</th>\n",
       "      <th>Wilcoxon</th>\n",
       "      <td>85.0</td>\n",
       "      <td>two-sided</td>\n",
       "      <td>0.002498</td>\n",
       "      <td>0.634409</td>\n",
       "      <td>0.666667</td>\n",
       "    </tr>\n",
       "    <tr>\n",
       "      <th>Incorrect</th>\n",
       "      <th>Wilcoxon</th>\n",
       "      <td>115.0</td>\n",
       "      <td>two-sided</td>\n",
       "      <td>0.046316</td>\n",
       "      <td>-0.433498</td>\n",
       "      <td>0.392857</td>\n",
       "    </tr>\n",
       "    <tr>\n",
       "      <th rowspan=\"2\" valign=\"top\">amPFC</th>\n",
       "      <th>Correct</th>\n",
       "      <th>Wilcoxon</th>\n",
       "      <td>193.0</td>\n",
       "      <td>two-sided</td>\n",
       "      <td>0.422457</td>\n",
       "      <td>-0.169892</td>\n",
       "      <td>0.466667</td>\n",
       "    </tr>\n",
       "    <tr>\n",
       "      <th>Incorrect</th>\n",
       "      <th>Wilcoxon</th>\n",
       "      <td>113.0</td>\n",
       "      <td>two-sided</td>\n",
       "      <td>0.041546</td>\n",
       "      <td>-0.443350</td>\n",
       "      <td>0.392857</td>\n",
       "    </tr>\n",
       "  </tbody>\n",
       "</table>\n",
       "</div>"
      ],
      "text/plain": [
       "                          W-val alternative     p-val       RBC      CLES\n",
       "roi   Inference                                                          \n",
       "aIFG  Correct   Wilcoxon   85.0   two-sided  0.002498  0.634409  0.666667\n",
       "      Incorrect Wilcoxon  115.0   two-sided  0.046316 -0.433498  0.392857\n",
       "amPFC Correct   Wilcoxon  193.0   two-sided  0.422457 -0.169892  0.466667\n",
       "      Incorrect Wilcoxon  113.0   two-sided  0.041546 -0.443350  0.392857"
      ]
     },
     "execution_count": 7,
     "metadata": {},
     "output_type": "execute_result"
    }
   ],
   "source": [
    "m.groupby(['roi', 'Inference'])['item'].apply(pg.wilcoxon, np.zeros(30))"
   ]
  },
  {
   "cell_type": "code",
   "execution_count": 8,
   "id": "a35cecf7-e96f-41d3-bb13-99ae87f3b742",
   "metadata": {
    "pycharm": {
     "name": "#%%\n"
    }
   },
   "outputs": [
    {
     "data": {
      "text/html": [
       "<svg  width=\"110\" height=\"55\"><rect x=\"0\" y=\"0\" width=\"55\" height=\"55\" style=\"fill:#ff4790;stroke-width:2;stroke:rgb(255,255,255)\"/><rect x=\"55\" y=\"0\" width=\"55\" height=\"55\" style=\"fill:#666666;stroke-width:2;stroke:rgb(255,255,255)\"/></svg>"
      ],
      "text/plain": [
       "[(1.0, 0.2784, 0.5647), (0.4, 0.4, 0.4)]"
      ]
     },
     "execution_count": 8,
     "metadata": {},
     "output_type": "execute_result"
    }
   ],
   "source": [
    "dark = sns.color_palette(\n",
    "    [\n",
    "        (1.0000, 0.2784, 0.5647),\n",
    "        (0.4000, 0.4000, 0.4000),\n",
    "    ]\n",
    ")\n",
    "\n",
    "dark"
   ]
  },
  {
   "cell_type": "code",
   "execution_count": 9,
   "id": "bc82224f-b475-4cf5-bc0e-0b422fc07a8c",
   "metadata": {
    "pycharm": {
     "name": "#%%\n"
    }
   },
   "outputs": [
    {
     "data": {
      "text/html": [
       "<svg  width=\"110\" height=\"55\"><rect x=\"0\" y=\"0\" width=\"55\" height=\"55\" style=\"fill:#ff98d3;stroke-width:2;stroke:rgb(255,255,255)\"/><rect x=\"55\" y=\"0\" width=\"55\" height=\"55\" style=\"fill:#cccccc;stroke-width:2;stroke:rgb(255,255,255)\"/></svg>"
      ],
      "text/plain": [
       "[(1.0, 0.5961, 0.8275), (0.8, 0.8, 0.8)]"
      ]
     },
     "execution_count": 9,
     "metadata": {},
     "output_type": "execute_result"
    }
   ],
   "source": [
    "light = sns.color_palette(\n",
    "    [\n",
    "        (1.0000, 0.5961, 0.8275),\n",
    "        (0.8000, 0.8000, 0.8000),\n",
    "    ]\n",
    ")\n",
    "light"
   ]
  },
  {
   "cell_type": "code",
   "execution_count": 10,
   "id": "e0a720c5-78d5-4227-b6f3-a6decc8e96d8",
   "metadata": {},
   "outputs": [
    {
     "name": "stderr",
     "output_type": "stream",
     "text": [
      "LINO NOT subset; don't know how to subset; dropped\n"
     ]
    },
    {
     "data": {
      "image/png": "[encoded data removed]",
      "text/plain": [
       "<Figure size 198x216 with 1 Axes>"
      ]
     },
     "metadata": {
      "needs_background": "light"
     },
     "output_type": "display_data"
    }
   ],
   "source": [
    "fig, ax = plt.subplots(figsize=(2.75, 3))\n",
    "ax.set(ylim=(-.4, .4))\n",
    "ax = statplot.plot_swarm_bar(\n",
    "    data=m, \n",
    "    x='roi', \n",
    "    y='item', \n",
    "    hue='Inference',\n",
    "    hue_order=['Correct', 'Incorrect'],\n",
    "    dodge=True,\n",
    "    sig_ind=[0, 1, 3],\n",
    "    bar_kws=dict(capsize=.25),\n",
    "    light=light,\n",
    "    dark=dark,\n",
    "    ax=ax,\n",
    ")\n",
    "\n",
    "# add annotation to help with interpretation\n",
    "prop = dict(\n",
    "    rotation='vertical', \n",
    "    xycoords='axes fraction',\n",
    "    horizontalalignment='center',\n",
    "    fontsize='large',\n",
    ")\n",
    "xoffset = -0.325\n",
    "yoffset = 0.1\n",
    "ax.annotate(\n",
    "    'Reactivation', \n",
    "    xy=(xoffset, 1), \n",
    "    verticalalignment='top',\n",
    "    **prop,\n",
    ")\n",
    "ax.annotate(\n",
    "    'Suppression', \n",
    "    xy=(xoffset, 0), \n",
    "    verticalalignment='bottom',\n",
    "    **prop,\n",
    ")\n",
    "ax.annotate(\n",
    "    '', \n",
    "    xy=(xoffset, 0.5 - yoffset), \n",
    "    xytext=(xoffset, 0.5 + yoffset), \n",
    "    arrowprops=dict(arrowstyle=\"<|-|>\", facecolor='k'),\n",
    "    xycoords='axes fraction',\n",
    ")\n",
    "\n",
    "# plot line at zero\n",
    "xlim = ax.get_xlim()\n",
    "ax.hlines(0, *xlim, colors=['k']);\n",
    "ax.set(xlim=xlim, ylabel='Similarity difference');\n",
    "fig.savefig(fig_dir / 'cluster_sme_stats.pdf')"
   ]
  },
  {
   "cell_type": "markdown",
   "id": "83e33f58-edad-4814-8e54-1ccdd9431cf0",
   "metadata": {},
   "source": [
    "## Reactivation correlation"
   ]
  },
  {
   "cell_type": "code",
   "execution_count": 11,
   "id": "ea1161e9-8822-4a57-a098-2c375100f74e",
   "metadata": {},
   "outputs": [],
   "source": [
    "roi1, roi2 = rois\n",
    "react_corr = rsa.item_roi_correlation(subjects, roi1, roi2, roi_rdms, dfs)\n",
    "\n",
    "react_corr_mean = react_corr.groupby(['roi1', 'roi2', 'subject'])['slope'].apply(\n",
    "    lambda x: x.mean() if x.notna().all() else np.nan\n",
    ")"
   ]
  },
  {
   "cell_type": "code",
   "execution_count": 12,
   "id": "db530285-4634-443e-8846-4cc1d26c4093",
   "metadata": {},
   "outputs": [
    {
     "data": {
      "text/plain": [
       "mean    0.141869\n",
       "sem     0.025773\n",
       "Name: slope, dtype: float64"
      ]
     },
     "execution_count": 12,
     "metadata": {},
     "output_type": "execute_result"
    }
   ],
   "source": [
    "react_corr_mean.agg(['mean', 'sem'])"
   ]
  },
  {
   "cell_type": "code",
   "execution_count": 13,
   "id": "6d29060d-a1d2-4437-9320-8cbdfbdc7a5b",
   "metadata": {},
   "outputs": [
    {
     "data": {
      "text/html": [
       "<div>\n",
       "<style scoped>\n",
       "    .dataframe tbody tr th:only-of-type {\n",
       "        vertical-align: middle;\n",
       "    }\n",
       "\n",
       "    .dataframe tbody tr th {\n",
       "        vertical-align: top;\n",
       "    }\n",
       "\n",
       "    .dataframe thead th {\n",
       "        text-align: right;\n",
       "    }\n",
       "</style>\n",
       "<table border=\"1\" class=\"dataframe\">\n",
       "  <thead>\n",
       "    <tr style=\"text-align: right;\">\n",
       "      <th></th>\n",
       "      <th></th>\n",
       "      <th></th>\n",
       "      <th>T</th>\n",
       "      <th>dof</th>\n",
       "      <th>alternative</th>\n",
       "      <th>p-val</th>\n",
       "      <th>CI95%</th>\n",
       "      <th>cohen-d</th>\n",
       "      <th>BF10</th>\n",
       "      <th>power</th>\n",
       "    </tr>\n",
       "    <tr>\n",
       "      <th>roi1</th>\n",
       "      <th>roi2</th>\n",
       "      <th></th>\n",
       "      <th></th>\n",
       "      <th></th>\n",
       "      <th></th>\n",
       "      <th></th>\n",
       "      <th></th>\n",
       "      <th></th>\n",
       "      <th></th>\n",
       "      <th></th>\n",
       "    </tr>\n",
       "  </thead>\n",
       "  <tbody>\n",
       "    <tr>\n",
       "      <th>aIFG</th>\n",
       "      <th>amPFC</th>\n",
       "      <th>T-test</th>\n",
       "      <td>5.504496</td>\n",
       "      <td>29</td>\n",
       "      <td>two-sided</td>\n",
       "      <td>0.000006</td>\n",
       "      <td>[0.09, 0.19]</td>\n",
       "      <td>1.004979</td>\n",
       "      <td>3251.608</td>\n",
       "      <td>0.999603</td>\n",
       "    </tr>\n",
       "  </tbody>\n",
       "</table>\n",
       "</div>"
      ],
      "text/plain": [
       "                          T  dof alternative     p-val         CI95%  \\\n",
       "roi1 roi2                                                              \n",
       "aIFG amPFC T-test  5.504496   29   two-sided  0.000006  [0.09, 0.19]   \n",
       "\n",
       "                    cohen-d      BF10     power  \n",
       "roi1 roi2                                        \n",
       "aIFG amPFC T-test  1.004979  3251.608  0.999603  "
      ]
     },
     "execution_count": 13,
     "metadata": {},
     "output_type": "execute_result"
    }
   ],
   "source": [
    "react_corr_mean.groupby(['roi1', 'roi2']).apply(pg.ttest, 0)"
   ]
  },
  {
   "cell_type": "markdown",
   "id": "85e98c95-ab1b-4adc-a32c-217eff4fd06d",
   "metadata": {},
   "source": [
    "## Reactivation correlation by AC accuracy"
   ]
  },
  {
   "cell_type": "code",
   "execution_count": 14,
   "id": "502a0943-61f6-4cca-b735-868b4f598888",
   "metadata": {},
   "outputs": [],
   "source": [
    "corr = rsa.item_roi_correlation(\n",
    "    subjects, roi1, roi2, roi_rdms, dfs, split_accuracy=True\n",
    ")\n",
    "\n",
    "corr_mean = corr.groupby(['correct', 'roi1', 'roi2', 'subject'])['slope'].apply(\n",
    "    lambda x: x.mean() if x.notna().all() else np.nan\n",
    ")"
   ]
  },
  {
   "cell_type": "code",
   "execution_count": 15,
   "id": "2397191c-eb46-4ddd-9dcd-466e5a261ff9",
   "metadata": {},
   "outputs": [
    {
     "data": {
      "text/html": [
       "<div>\n",
       "<style scoped>\n",
       "    .dataframe tbody tr th:only-of-type {\n",
       "        vertical-align: middle;\n",
       "    }\n",
       "\n",
       "    .dataframe tbody tr th {\n",
       "        vertical-align: top;\n",
       "    }\n",
       "\n",
       "    .dataframe thead th {\n",
       "        text-align: right;\n",
       "    }\n",
       "</style>\n",
       "<table border=\"1\" class=\"dataframe\">\n",
       "  <thead>\n",
       "    <tr style=\"text-align: right;\">\n",
       "      <th></th>\n",
       "      <th></th>\n",
       "      <th></th>\n",
       "      <th>mean</th>\n",
       "      <th>sem</th>\n",
       "    </tr>\n",
       "    <tr>\n",
       "      <th>correct</th>\n",
       "      <th>roi1</th>\n",
       "      <th>roi2</th>\n",
       "      <th></th>\n",
       "      <th></th>\n",
       "    </tr>\n",
       "  </thead>\n",
       "  <tbody>\n",
       "    <tr>\n",
       "      <th>0</th>\n",
       "      <th>aIFG</th>\n",
       "      <th>amPFC</th>\n",
       "      <td>0.160005</td>\n",
       "      <td>0.064510</td>\n",
       "    </tr>\n",
       "    <tr>\n",
       "      <th>1</th>\n",
       "      <th>aIFG</th>\n",
       "      <th>amPFC</th>\n",
       "      <td>0.128676</td>\n",
       "      <td>0.024553</td>\n",
       "    </tr>\n",
       "  </tbody>\n",
       "</table>\n",
       "</div>"
      ],
      "text/plain": [
       "                        mean       sem\n",
       "correct roi1 roi2                     \n",
       "0       aIFG amPFC  0.160005  0.064510\n",
       "1       aIFG amPFC  0.128676  0.024553"
      ]
     },
     "execution_count": 15,
     "metadata": {},
     "output_type": "execute_result"
    }
   ],
   "source": [
    "corr_mean.groupby(['correct', 'roi1', 'roi2']).agg(['mean', 'sem'])"
   ]
  },
  {
   "cell_type": "code",
   "execution_count": 16,
   "id": "0879ec4a-d994-497f-b8c2-18425e7490fe",
   "metadata": {},
   "outputs": [
    {
     "data": {
      "text/html": [
       "<div>\n",
       "<style scoped>\n",
       "    .dataframe tbody tr th:only-of-type {\n",
       "        vertical-align: middle;\n",
       "    }\n",
       "\n",
       "    .dataframe tbody tr th {\n",
       "        vertical-align: top;\n",
       "    }\n",
       "\n",
       "    .dataframe thead th {\n",
       "        text-align: right;\n",
       "    }\n",
       "</style>\n",
       "<table border=\"1\" class=\"dataframe\">\n",
       "  <thead>\n",
       "    <tr style=\"text-align: right;\">\n",
       "      <th></th>\n",
       "      <th></th>\n",
       "      <th>mean</th>\n",
       "      <th>sem</th>\n",
       "    </tr>\n",
       "    <tr>\n",
       "      <th>roi1</th>\n",
       "      <th>roi2</th>\n",
       "      <th></th>\n",
       "      <th></th>\n",
       "    </tr>\n",
       "  </thead>\n",
       "  <tbody>\n",
       "    <tr>\n",
       "      <th>aIFG</th>\n",
       "      <th>amPFC</th>\n",
       "      <td>-0.013319</td>\n",
       "      <td>0.063838</td>\n",
       "    </tr>\n",
       "  </tbody>\n",
       "</table>\n",
       "</div>"
      ],
      "text/plain": [
       "                mean       sem\n",
       "roi1 roi2                     \n",
       "aIFG amPFC -0.013319  0.063838"
      ]
     },
     "execution_count": 16,
     "metadata": {},
     "output_type": "execute_result"
    }
   ],
   "source": [
    "sme = corr_mean.loc[1] - corr_mean.loc[0]\n",
    "sme.groupby(['roi1', 'roi2']).agg(['mean', 'sem'])"
   ]
  },
  {
   "cell_type": "code",
   "execution_count": 17,
   "id": "e3de3cd2-81a2-41a0-9c61-9e72a63bbb0a",
   "metadata": {},
   "outputs": [
    {
     "data": {
      "text/html": [
       "<div>\n",
       "<style scoped>\n",
       "    .dataframe tbody tr th:only-of-type {\n",
       "        vertical-align: middle;\n",
       "    }\n",
       "\n",
       "    .dataframe tbody tr th {\n",
       "        vertical-align: top;\n",
       "    }\n",
       "\n",
       "    .dataframe thead th {\n",
       "        text-align: right;\n",
       "    }\n",
       "</style>\n",
       "<table border=\"1\" class=\"dataframe\">\n",
       "  <thead>\n",
       "    <tr style=\"text-align: right;\">\n",
       "      <th></th>\n",
       "      <th></th>\n",
       "      <th></th>\n",
       "      <th>T</th>\n",
       "      <th>dof</th>\n",
       "      <th>alternative</th>\n",
       "      <th>p-val</th>\n",
       "      <th>CI95%</th>\n",
       "      <th>cohen-d</th>\n",
       "      <th>BF10</th>\n",
       "      <th>power</th>\n",
       "    </tr>\n",
       "    <tr>\n",
       "      <th>roi1</th>\n",
       "      <th>roi2</th>\n",
       "      <th></th>\n",
       "      <th></th>\n",
       "      <th></th>\n",
       "      <th></th>\n",
       "      <th></th>\n",
       "      <th></th>\n",
       "      <th></th>\n",
       "      <th></th>\n",
       "      <th></th>\n",
       "    </tr>\n",
       "  </thead>\n",
       "  <tbody>\n",
       "    <tr>\n",
       "      <th>aIFG</th>\n",
       "      <th>amPFC</th>\n",
       "      <th>T-test</th>\n",
       "      <td>-0.208632</td>\n",
       "      <td>19</td>\n",
       "      <td>two-sided</td>\n",
       "      <td>0.836956</td>\n",
       "      <td>[-0.15, 0.12]</td>\n",
       "      <td>0.046652</td>\n",
       "      <td>0.237</td>\n",
       "      <td>0.054517</td>\n",
       "    </tr>\n",
       "  </tbody>\n",
       "</table>\n",
       "</div>"
      ],
      "text/plain": [
       "                          T  dof alternative     p-val          CI95%  \\\n",
       "roi1 roi2                                                               \n",
       "aIFG amPFC T-test -0.208632   19   two-sided  0.836956  [-0.15, 0.12]   \n",
       "\n",
       "                    cohen-d   BF10     power  \n",
       "roi1 roi2                                     \n",
       "aIFG amPFC T-test  0.046652  0.237  0.054517  "
      ]
     },
     "execution_count": 17,
     "metadata": {},
     "output_type": "execute_result"
    }
   ],
   "source": [
    "sme.groupby(['roi1', 'roi2']).apply(pg.ttest, 0)"
   ]
  },
  {
   "cell_type": "code",
   "execution_count": 18,
   "id": "c01e20a7-82cb-4bbd-8004-095532101c91",
   "metadata": {},
   "outputs": [
    {
     "name": "stdout",
     "output_type": "stream",
     "text": [
      "Python implementation: CPython\n",
      "Python version       : 3.9.7\n",
      "IPython version      : 8.3.0\n",
      "\n",
      "numpy       : 1.22.3\n",
      "pandas      : 1.4.3\n",
      "bender_study: 0.1.0\n",
      "matplotlib  : 3.5.1\n",
      "seaborn     : 0.11.2\n",
      "pingouin    : 0.5.2\n",
      "mindstorm   : 0.9.0\n",
      "\n"
     ]
    }
   ],
   "source": [
    "%load_ext watermark\n",
    "%watermark -v -iv"
   ]
  }
 ],
 "metadata": {
  "kernelspec": {
   "display_name": "bender_study",
   "language": "python",
   "name": "bender_study"
  },
  "language_info": {
   "codemirror_mode": {
    "name": "ipython",
    "version": 3
   },
   "file_extension": ".py",
   "mimetype": "text/x-python",
   "name": "python",
   "nbconvert_exporter": "python",
   "pygments_lexer": "ipython3",
   "version": "3.9.7"
  }
 },
 "nbformat": 4,
 "nbformat_minor": 5
}
